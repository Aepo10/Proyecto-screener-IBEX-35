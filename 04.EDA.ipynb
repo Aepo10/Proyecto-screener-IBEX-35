{
 "cells": [
  {
   "cell_type": "markdown",
   "id": "4f45b548",
   "metadata": {},
   "source": [
    "### Análisis EDA\n",
    "En nuestro caso, durante el proceso de ETL ya se ha hecho gran cantidad de limpiezas y pruebas contables (explicadas en el \"entregable 2\" y en los jpynb del 01 al 03) por lo que centraremos el proceso del EDA en buscar anomalías en los datos, posibles outliers o errores."
   ]
  },
  {
   "cell_type": "code",
   "execution_count": 2,
   "id": "f1fe0ce5",
   "metadata": {},
   "outputs": [],
   "source": [
    "#Importamos lo necesario para trabajar el EDA y seteamos \n",
    "import requests\n",
    "import json\n",
    "import pandas as pd\n",
    "import numpy as np\n",
    "import matplotlib.pyplot as plt\n",
    "import seaborn as sns\n",
    "import datetime\n",
    "import time\n",
    "import ast\n",
    "import psycopg2 as ps\n",
    "pd.set_option('display.max_columns', None)\n",
    "pd.set_option('display.max_colwidth', None)\n"
   ]
  },
  {
   "cell_type": "markdown",
   "id": "ccf6bffa",
   "metadata": {},
   "source": [
    "Para el análisis EDA, lo haremos directamente sobre la base de datos de DBeaver."
   ]
  },
  {
   "cell_type": "code",
   "execution_count": 7,
   "id": "9d4d2d41",
   "metadata": {},
   "outputs": [
    {
     "data": {
      "application/vnd.microsoft.datawrangler.viewer.v0+json": {
       "columns": [
        {
         "name": "index",
         "rawType": "int64",
         "type": "integer"
        },
        {
         "name": "id",
         "rawType": "int64",
         "type": "integer"
        },
        {
         "name": "nombre",
         "rawType": "object",
         "type": "string"
        },
        {
         "name": "ticker",
         "rawType": "object",
         "type": "string"
        },
        {
         "name": "sector",
         "rawType": "object",
         "type": "string"
        },
        {
         "name": "subsector",
         "rawType": "object",
         "type": "string"
        }
       ],
       "conversionMethod": "pd.DataFrame",
       "ref": "f93ab540-6ff1-451f-bf9c-f6221c348677",
       "rows": [
        [
         "0",
         "1",
         "Grifols S.A.",
         "GRF.MC",
         "Healthcare",
         "Drug Manufacturers - General"
        ],
        [
         "1",
         "2",
         "Indra A",
         "IDR.MC",
         "Technology",
         "Information Technology Services"
        ],
        [
         "2",
         "3",
         "Caixabank SA",
         "CABK.MC",
         "Financial Services",
         "Banks - Regional"
        ],
        [
         "3",
         "4",
         "Repsol",
         "REP.MC",
         "Energy",
         "Oil & Gas Integrated"
        ],
        [
         "4",
         "5",
         "Telefonica",
         "TEF.MC",
         "Communication Services",
         "Telecom Services"
        ],
        [
         "5",
         "6",
         "Bankinter",
         "BKT.MC",
         "Financial Services",
         "Banks - Regional"
        ],
        [
         "6",
         "7",
         "Amadeus IT Group S.A.",
         "AMS.MC",
         "Technology",
         "Information Technology Services"
        ],
        [
         "7",
         "8",
         "Mapfre",
         "MAP.MC",
         "Financial Services",
         "Insurance - Diversified"
        ],
        [
         "8",
         "9",
         "Industria de Diseno Textil SA",
         "ITX.MC",
         "Consumer Cyclical",
         "Apparel Retail"
        ],
        [
         "9",
         "10",
         "Banco de Sabadell S.A",
         "SAB.MC",
         "Financial Services",
         "Banks - Diversified"
        ],
        [
         "10",
         "11",
         "ArcelorMittal SA",
         "MTS.MC",
         "Basic Materials",
         "Steel"
        ],
        [
         "11",
         "12",
         "Acciona",
         "ANA.MC",
         "Industrials",
         "Engineering & Construction"
        ],
        [
         "12",
         "13",
         "Banco Santander",
         "SAN.MC",
         "Financial Services",
         "Banks - Diversified"
        ],
        [
         "13",
         "14",
         "Enagás S.A.",
         "ENG.MC",
         "Utilities",
         "Utilities - Regulated Gas"
        ],
        [
         "14",
         "15",
         "Acerinox",
         "ACX.MC",
         "Basic Materials",
         "Steel"
        ],
        [
         "15",
         "16",
         "International Consolidated Airlines Group S.A",
         "IAG.MC",
         "Industrials",
         "Airlines"
        ],
        [
         "16",
         "17",
         "Ferrovial S.A.",
         "FER.MC",
         "Industrials",
         "Infrastructure Operations"
        ],
        [
         "17",
         "18",
         "Iberdrola S.A.",
         "IBE.MC",
         "Utilities",
         "Utilities - Diversified"
        ],
        [
         "18",
         "19",
         "ACS Actividades de Construccion y Servicios SA",
         "ACS.MC",
         "Industrials",
         "Engineering & Construction"
        ],
        [
         "19",
         "20",
         "Banco Bilbao Vizcaya Argentaria SA",
         "BBVA.MC",
         "Financial Services",
         "Banks - Diversified"
        ],
        [
         "20",
         "21",
         "Endesa SA",
         "ELE.MC",
         "Utilities",
         "Utilities - Regulated Electric"
        ],
        [
         "21",
         "22",
         "Solaria Energía y Medio Ambiente S.A",
         "SLR.MC",
         "Utilities",
         "Utilities - Renewable"
        ],
        [
         "22",
         "23",
         "Aena SA",
         "AENA.MC",
         "Industrials",
         "Airports & Air Services"
        ],
        [
         "23",
         "24",
         "Cellnex Telecom SA",
         "CLNX.MC",
         "Real Estate",
         "Real Estate Services"
        ],
        [
         "24",
         "25",
         "Cia de Distribucion Integral",
         "LOG.MC",
         "Industrials",
         "Integrated Freight & Logistics"
        ],
        [
         "25",
         "26",
         "Fluidra",
         "FDR.MC",
         "Industrials",
         "Specialty Industrial Machinery"
        ],
        [
         "26",
         "27",
         "Inmobiliaria Colonial SA",
         "COL.MC",
         "Real Estate",
         "REIT - Office"
        ],
        [
         "27",
         "28",
         "Laboratorios Farmaceuticos ROVI",
         "ROVI.MC",
         "Healthcare",
         "Drug Manufacturers - Specialty & Generic"
        ],
        [
         "28",
         "29",
         "Merlin Properties SOCIMI SA",
         "MRL.MC",
         "Real Estate",
         "REIT - Office"
        ],
        [
         "29",
         "30",
         "Sacyr SA",
         "SCYR.MC",
         "Industrials",
         "Engineering & Construction"
        ],
        [
         "30",
         "31",
         "Unicaja Banco SA",
         "UNI.MC",
         "Financial Services",
         "Banks - Regional"
        ],
        [
         "31",
         "32",
         "Naturgy Energy Group SA",
         "NTGY.MC",
         "Utilities",
         "Utilities - Regulated Gas"
        ],
        [
         "32",
         "33",
         "Corporacion Acciona Energias Renovables SA",
         "ANE.MC",
         "Utilities",
         "Utilities - Renewable"
        ],
        [
         "33",
         "34",
         "Redeia Corporacion S.A.",
         "RED.MC",
         "Utilities",
         "Utilities - Regulated Electric"
        ],
        [
         "34",
         "35",
         "PUIG Brands",
         "PUIG.MC",
         "Specialty Retailers",
         "Consumer Cyclicals"
        ]
       ],
       "shape": {
        "columns": 5,
        "rows": 35
       }
      },
      "text/html": [
       "<div>\n",
       "<style scoped>\n",
       "    .dataframe tbody tr th:only-of-type {\n",
       "        vertical-align: middle;\n",
       "    }\n",
       "\n",
       "    .dataframe tbody tr th {\n",
       "        vertical-align: top;\n",
       "    }\n",
       "\n",
       "    .dataframe thead th {\n",
       "        text-align: right;\n",
       "    }\n",
       "</style>\n",
       "<table border=\"1\" class=\"dataframe\">\n",
       "  <thead>\n",
       "    <tr style=\"text-align: right;\">\n",
       "      <th></th>\n",
       "      <th>id</th>\n",
       "      <th>nombre</th>\n",
       "      <th>ticker</th>\n",
       "      <th>sector</th>\n",
       "      <th>subsector</th>\n",
       "    </tr>\n",
       "  </thead>\n",
       "  <tbody>\n",
       "    <tr>\n",
       "      <th>0</th>\n",
       "      <td>1</td>\n",
       "      <td>Grifols S.A.</td>\n",
       "      <td>GRF.MC</td>\n",
       "      <td>Healthcare</td>\n",
       "      <td>Drug Manufacturers - General</td>\n",
       "    </tr>\n",
       "    <tr>\n",
       "      <th>1</th>\n",
       "      <td>2</td>\n",
       "      <td>Indra A</td>\n",
       "      <td>IDR.MC</td>\n",
       "      <td>Technology</td>\n",
       "      <td>Information Technology Services</td>\n",
       "    </tr>\n",
       "    <tr>\n",
       "      <th>2</th>\n",
       "      <td>3</td>\n",
       "      <td>Caixabank SA</td>\n",
       "      <td>CABK.MC</td>\n",
       "      <td>Financial Services</td>\n",
       "      <td>Banks - Regional</td>\n",
       "    </tr>\n",
       "    <tr>\n",
       "      <th>3</th>\n",
       "      <td>4</td>\n",
       "      <td>Repsol</td>\n",
       "      <td>REP.MC</td>\n",
       "      <td>Energy</td>\n",
       "      <td>Oil &amp; Gas Integrated</td>\n",
       "    </tr>\n",
       "    <tr>\n",
       "      <th>4</th>\n",
       "      <td>5</td>\n",
       "      <td>Telefonica</td>\n",
       "      <td>TEF.MC</td>\n",
       "      <td>Communication Services</td>\n",
       "      <td>Telecom Services</td>\n",
       "    </tr>\n",
       "    <tr>\n",
       "      <th>5</th>\n",
       "      <td>6</td>\n",
       "      <td>Bankinter</td>\n",
       "      <td>BKT.MC</td>\n",
       "      <td>Financial Services</td>\n",
       "      <td>Banks - Regional</td>\n",
       "    </tr>\n",
       "    <tr>\n",
       "      <th>6</th>\n",
       "      <td>7</td>\n",
       "      <td>Amadeus IT Group S.A.</td>\n",
       "      <td>AMS.MC</td>\n",
       "      <td>Technology</td>\n",
       "      <td>Information Technology Services</td>\n",
       "    </tr>\n",
       "    <tr>\n",
       "      <th>7</th>\n",
       "      <td>8</td>\n",
       "      <td>Mapfre</td>\n",
       "      <td>MAP.MC</td>\n",
       "      <td>Financial Services</td>\n",
       "      <td>Insurance - Diversified</td>\n",
       "    </tr>\n",
       "    <tr>\n",
       "      <th>8</th>\n",
       "      <td>9</td>\n",
       "      <td>Industria de Diseno Textil SA</td>\n",
       "      <td>ITX.MC</td>\n",
       "      <td>Consumer Cyclical</td>\n",
       "      <td>Apparel Retail</td>\n",
       "    </tr>\n",
       "    <tr>\n",
       "      <th>9</th>\n",
       "      <td>10</td>\n",
       "      <td>Banco de Sabadell S.A</td>\n",
       "      <td>SAB.MC</td>\n",
       "      <td>Financial Services</td>\n",
       "      <td>Banks - Diversified</td>\n",
       "    </tr>\n",
       "    <tr>\n",
       "      <th>10</th>\n",
       "      <td>11</td>\n",
       "      <td>ArcelorMittal SA</td>\n",
       "      <td>MTS.MC</td>\n",
       "      <td>Basic Materials</td>\n",
       "      <td>Steel</td>\n",
       "    </tr>\n",
       "    <tr>\n",
       "      <th>11</th>\n",
       "      <td>12</td>\n",
       "      <td>Acciona</td>\n",
       "      <td>ANA.MC</td>\n",
       "      <td>Industrials</td>\n",
       "      <td>Engineering &amp; Construction</td>\n",
       "    </tr>\n",
       "    <tr>\n",
       "      <th>12</th>\n",
       "      <td>13</td>\n",
       "      <td>Banco Santander</td>\n",
       "      <td>SAN.MC</td>\n",
       "      <td>Financial Services</td>\n",
       "      <td>Banks - Diversified</td>\n",
       "    </tr>\n",
       "    <tr>\n",
       "      <th>13</th>\n",
       "      <td>14</td>\n",
       "      <td>Enagás S.A.</td>\n",
       "      <td>ENG.MC</td>\n",
       "      <td>Utilities</td>\n",
       "      <td>Utilities - Regulated Gas</td>\n",
       "    </tr>\n",
       "    <tr>\n",
       "      <th>14</th>\n",
       "      <td>15</td>\n",
       "      <td>Acerinox</td>\n",
       "      <td>ACX.MC</td>\n",
       "      <td>Basic Materials</td>\n",
       "      <td>Steel</td>\n",
       "    </tr>\n",
       "    <tr>\n",
       "      <th>15</th>\n",
       "      <td>16</td>\n",
       "      <td>International Consolidated Airlines Group S.A</td>\n",
       "      <td>IAG.MC</td>\n",
       "      <td>Industrials</td>\n",
       "      <td>Airlines</td>\n",
       "    </tr>\n",
       "    <tr>\n",
       "      <th>16</th>\n",
       "      <td>17</td>\n",
       "      <td>Ferrovial S.A.</td>\n",
       "      <td>FER.MC</td>\n",
       "      <td>Industrials</td>\n",
       "      <td>Infrastructure Operations</td>\n",
       "    </tr>\n",
       "    <tr>\n",
       "      <th>17</th>\n",
       "      <td>18</td>\n",
       "      <td>Iberdrola S.A.</td>\n",
       "      <td>IBE.MC</td>\n",
       "      <td>Utilities</td>\n",
       "      <td>Utilities - Diversified</td>\n",
       "    </tr>\n",
       "    <tr>\n",
       "      <th>18</th>\n",
       "      <td>19</td>\n",
       "      <td>ACS Actividades de Construccion y Servicios SA</td>\n",
       "      <td>ACS.MC</td>\n",
       "      <td>Industrials</td>\n",
       "      <td>Engineering &amp; Construction</td>\n",
       "    </tr>\n",
       "    <tr>\n",
       "      <th>19</th>\n",
       "      <td>20</td>\n",
       "      <td>Banco Bilbao Vizcaya Argentaria SA</td>\n",
       "      <td>BBVA.MC</td>\n",
       "      <td>Financial Services</td>\n",
       "      <td>Banks - Diversified</td>\n",
       "    </tr>\n",
       "    <tr>\n",
       "      <th>20</th>\n",
       "      <td>21</td>\n",
       "      <td>Endesa SA</td>\n",
       "      <td>ELE.MC</td>\n",
       "      <td>Utilities</td>\n",
       "      <td>Utilities - Regulated Electric</td>\n",
       "    </tr>\n",
       "    <tr>\n",
       "      <th>21</th>\n",
       "      <td>22</td>\n",
       "      <td>Solaria Energía y Medio Ambiente S.A</td>\n",
       "      <td>SLR.MC</td>\n",
       "      <td>Utilities</td>\n",
       "      <td>Utilities - Renewable</td>\n",
       "    </tr>\n",
       "    <tr>\n",
       "      <th>22</th>\n",
       "      <td>23</td>\n",
       "      <td>Aena SA</td>\n",
       "      <td>AENA.MC</td>\n",
       "      <td>Industrials</td>\n",
       "      <td>Airports &amp; Air Services</td>\n",
       "    </tr>\n",
       "    <tr>\n",
       "      <th>23</th>\n",
       "      <td>24</td>\n",
       "      <td>Cellnex Telecom SA</td>\n",
       "      <td>CLNX.MC</td>\n",
       "      <td>Real Estate</td>\n",
       "      <td>Real Estate Services</td>\n",
       "    </tr>\n",
       "    <tr>\n",
       "      <th>24</th>\n",
       "      <td>25</td>\n",
       "      <td>Cia de Distribucion Integral</td>\n",
       "      <td>LOG.MC</td>\n",
       "      <td>Industrials</td>\n",
       "      <td>Integrated Freight &amp; Logistics</td>\n",
       "    </tr>\n",
       "    <tr>\n",
       "      <th>25</th>\n",
       "      <td>26</td>\n",
       "      <td>Fluidra</td>\n",
       "      <td>FDR.MC</td>\n",
       "      <td>Industrials</td>\n",
       "      <td>Specialty Industrial Machinery</td>\n",
       "    </tr>\n",
       "    <tr>\n",
       "      <th>26</th>\n",
       "      <td>27</td>\n",
       "      <td>Inmobiliaria Colonial SA</td>\n",
       "      <td>COL.MC</td>\n",
       "      <td>Real Estate</td>\n",
       "      <td>REIT - Office</td>\n",
       "    </tr>\n",
       "    <tr>\n",
       "      <th>27</th>\n",
       "      <td>28</td>\n",
       "      <td>Laboratorios Farmaceuticos ROVI</td>\n",
       "      <td>ROVI.MC</td>\n",
       "      <td>Healthcare</td>\n",
       "      <td>Drug Manufacturers - Specialty &amp; Generic</td>\n",
       "    </tr>\n",
       "    <tr>\n",
       "      <th>28</th>\n",
       "      <td>29</td>\n",
       "      <td>Merlin Properties SOCIMI SA</td>\n",
       "      <td>MRL.MC</td>\n",
       "      <td>Real Estate</td>\n",
       "      <td>REIT - Office</td>\n",
       "    </tr>\n",
       "    <tr>\n",
       "      <th>29</th>\n",
       "      <td>30</td>\n",
       "      <td>Sacyr SA</td>\n",
       "      <td>SCYR.MC</td>\n",
       "      <td>Industrials</td>\n",
       "      <td>Engineering &amp; Construction</td>\n",
       "    </tr>\n",
       "    <tr>\n",
       "      <th>30</th>\n",
       "      <td>31</td>\n",
       "      <td>Unicaja Banco SA</td>\n",
       "      <td>UNI.MC</td>\n",
       "      <td>Financial Services</td>\n",
       "      <td>Banks - Regional</td>\n",
       "    </tr>\n",
       "    <tr>\n",
       "      <th>31</th>\n",
       "      <td>32</td>\n",
       "      <td>Naturgy Energy Group SA</td>\n",
       "      <td>NTGY.MC</td>\n",
       "      <td>Utilities</td>\n",
       "      <td>Utilities - Regulated Gas</td>\n",
       "    </tr>\n",
       "    <tr>\n",
       "      <th>32</th>\n",
       "      <td>33</td>\n",
       "      <td>Corporacion Acciona Energias Renovables SA</td>\n",
       "      <td>ANE.MC</td>\n",
       "      <td>Utilities</td>\n",
       "      <td>Utilities - Renewable</td>\n",
       "    </tr>\n",
       "    <tr>\n",
       "      <th>33</th>\n",
       "      <td>34</td>\n",
       "      <td>Redeia Corporacion S.A.</td>\n",
       "      <td>RED.MC</td>\n",
       "      <td>Utilities</td>\n",
       "      <td>Utilities - Regulated Electric</td>\n",
       "    </tr>\n",
       "    <tr>\n",
       "      <th>34</th>\n",
       "      <td>35</td>\n",
       "      <td>PUIG Brands</td>\n",
       "      <td>PUIG.MC</td>\n",
       "      <td>Specialty Retailers</td>\n",
       "      <td>Consumer Cyclicals</td>\n",
       "    </tr>\n",
       "  </tbody>\n",
       "</table>\n",
       "</div>"
      ],
      "text/plain": [
       "    id                                          nombre   ticker  \\\n",
       "0    1                                    Grifols S.A.   GRF.MC   \n",
       "1    2                                         Indra A   IDR.MC   \n",
       "2    3                                    Caixabank SA  CABK.MC   \n",
       "3    4                                          Repsol   REP.MC   \n",
       "4    5                                      Telefonica   TEF.MC   \n",
       "5    6                                       Bankinter   BKT.MC   \n",
       "6    7                           Amadeus IT Group S.A.   AMS.MC   \n",
       "7    8                                          Mapfre   MAP.MC   \n",
       "8    9                   Industria de Diseno Textil SA   ITX.MC   \n",
       "9   10                           Banco de Sabadell S.A   SAB.MC   \n",
       "10  11                                ArcelorMittal SA   MTS.MC   \n",
       "11  12                                         Acciona   ANA.MC   \n",
       "12  13                                 Banco Santander   SAN.MC   \n",
       "13  14                                     Enagás S.A.   ENG.MC   \n",
       "14  15                                        Acerinox   ACX.MC   \n",
       "15  16   International Consolidated Airlines Group S.A   IAG.MC   \n",
       "16  17                                  Ferrovial S.A.   FER.MC   \n",
       "17  18                                  Iberdrola S.A.   IBE.MC   \n",
       "18  19  ACS Actividades de Construccion y Servicios SA   ACS.MC   \n",
       "19  20              Banco Bilbao Vizcaya Argentaria SA  BBVA.MC   \n",
       "20  21                                       Endesa SA   ELE.MC   \n",
       "21  22            Solaria Energía y Medio Ambiente S.A   SLR.MC   \n",
       "22  23                                         Aena SA  AENA.MC   \n",
       "23  24                              Cellnex Telecom SA  CLNX.MC   \n",
       "24  25                    Cia de Distribucion Integral   LOG.MC   \n",
       "25  26                                         Fluidra   FDR.MC   \n",
       "26  27                        Inmobiliaria Colonial SA   COL.MC   \n",
       "27  28                 Laboratorios Farmaceuticos ROVI  ROVI.MC   \n",
       "28  29                     Merlin Properties SOCIMI SA   MRL.MC   \n",
       "29  30                                        Sacyr SA  SCYR.MC   \n",
       "30  31                                Unicaja Banco SA   UNI.MC   \n",
       "31  32                         Naturgy Energy Group SA  NTGY.MC   \n",
       "32  33      Corporacion Acciona Energias Renovables SA   ANE.MC   \n",
       "33  34                         Redeia Corporacion S.A.   RED.MC   \n",
       "34  35                                     PUIG Brands  PUIG.MC   \n",
       "\n",
       "                    sector                                 subsector  \n",
       "0               Healthcare              Drug Manufacturers - General  \n",
       "1               Technology           Information Technology Services  \n",
       "2       Financial Services                          Banks - Regional  \n",
       "3                   Energy                      Oil & Gas Integrated  \n",
       "4   Communication Services                          Telecom Services  \n",
       "5       Financial Services                          Banks - Regional  \n",
       "6               Technology           Information Technology Services  \n",
       "7       Financial Services                   Insurance - Diversified  \n",
       "8        Consumer Cyclical                            Apparel Retail  \n",
       "9       Financial Services                       Banks - Diversified  \n",
       "10         Basic Materials                                     Steel  \n",
       "11             Industrials                Engineering & Construction  \n",
       "12      Financial Services                       Banks - Diversified  \n",
       "13               Utilities                 Utilities - Regulated Gas  \n",
       "14         Basic Materials                                     Steel  \n",
       "15             Industrials                                  Airlines  \n",
       "16             Industrials                 Infrastructure Operations  \n",
       "17               Utilities                   Utilities - Diversified  \n",
       "18             Industrials                Engineering & Construction  \n",
       "19      Financial Services                       Banks - Diversified  \n",
       "20               Utilities            Utilities - Regulated Electric  \n",
       "21               Utilities                     Utilities - Renewable  \n",
       "22             Industrials                   Airports & Air Services  \n",
       "23             Real Estate                      Real Estate Services  \n",
       "24             Industrials            Integrated Freight & Logistics  \n",
       "25             Industrials            Specialty Industrial Machinery  \n",
       "26             Real Estate                             REIT - Office  \n",
       "27              Healthcare  Drug Manufacturers - Specialty & Generic  \n",
       "28             Real Estate                             REIT - Office  \n",
       "29             Industrials                Engineering & Construction  \n",
       "30      Financial Services                          Banks - Regional  \n",
       "31               Utilities                 Utilities - Regulated Gas  \n",
       "32               Utilities                     Utilities - Renewable  \n",
       "33               Utilities            Utilities - Regulated Electric  \n",
       "34     Specialty Retailers                        Consumer Cyclicals  "
      ]
     },
     "execution_count": 7,
     "metadata": {},
     "output_type": "execute_result"
    }
   ],
   "source": [
    "#conectamos a la base de datos\n",
    "conn = ps.connect(\n",
    "    dbname= 'IBEX35_Análisis',\n",
    "    user= 'postgres',\n",
    "    password= 'admin',\n",
    "    host= 'localhost',\n",
    "    port= '5432'\n",
    ")\n",
    "#creamos un cursor para ejecutar comandos SQL\n",
    "cur = conn.cursor()\n",
    "#traemos los datos de la tabla empresas_IBEX35\n",
    "cur.execute(\"SELECT * FROM empresas_IBEX35\")\n",
    "#guardamos los resultados en una variable\n",
    "empresas_IBEX35 = cur.fetchall()\n",
    "#creamos un dataframe con los resultadoS\n",
    "empresas_IBEX35 = pd.DataFrame(empresas_IBEX35, columns=['id', 'nombre','ticker' ,'sector', 'subsector'])\n",
    "#cerramos el cursor y la conexión\n",
    "cur.close()\n",
    "conn.close()\n",
    "#mostramos el dataframe\n",
    "empresas_IBEX35"
   ]
  },
  {
   "cell_type": "markdown",
   "id": "849af0d2",
   "metadata": {},
   "source": [
    "Observando el df vemos que la columna ID no tiene sentido, la primarykey debería ser el ticker ya que es un valor único para cada empresa y sobre la cual se va a relacionar con el resto de las tablas. "
   ]
  },
  {
   "cell_type": "code",
   "execution_count": 23,
   "id": "7076920f",
   "metadata": {},
   "outputs": [
    {
     "data": {
      "text/plain": [
       "[('ID',), ('Nombre',), ('Ticker',), ('Sector',), ('Subsector',)]"
      ]
     },
     "execution_count": 23,
     "metadata": {},
     "output_type": "execute_result"
    }
   ],
   "source": [
    "columnas"
   ]
  },
  {
   "cell_type": "code",
   "execution_count": 33,
   "id": "34452915",
   "metadata": {},
   "outputs": [],
   "source": [
    "#Eliminamos de la base de datos la columna id y marcamos como primary key la columna ticker\n",
    "#conectamos a la base de datos\n",
    "conn = ps.connect(\n",
    "    dbname= 'IBEX35_Análisis',\n",
    "    user= 'postgres',\n",
    "    password= 'admin',\n",
    "    host= 'localhost',\n",
    "    port= '5432'\n",
    ")\n",
    "#creamos un cursor para ejecutar comandos SQL\n",
    "cur = conn.cursor()\n",
    "#guardamos los cambios\n",
    "conn.commit()\n",
    "#traemos los datos de la tabla empresas_IBEX35\n",
    "cur.execute(\"SELECT * FROM empresas_IBEX35\")\n",
    "#guardamos los resultados en una variable\n",
    "empresas_IBEX35 = cur.fetchall()\n",
    "#creamos un dataframe con los resultadoS\n",
    "empresas_IBEX35 = pd.DataFrame(empresas_IBEX35, columns=['nombre','ticker' ,'sector', 'subsector'])\n",
    "#cerramos el cursor y la conexión\n",
    "cur.close()\n",
    "conn.close()\n",
    "#mostramos el dataframe\n",
    "empresas_IBEX35\n",
    "#cerramos el cursor y la conexión\n",
    "cur.close()\n",
    "conn.close()\n"
   ]
  },
  {
   "cell_type": "code",
   "execution_count": 34,
   "id": "7bbf2ead",
   "metadata": {},
   "outputs": [
    {
     "data": {
      "application/vnd.microsoft.datawrangler.viewer.v0+json": {
       "columns": [
        {
         "name": "index",
         "rawType": "int64",
         "type": "integer"
        },
        {
         "name": "nombre",
         "rawType": "object",
         "type": "string"
        },
        {
         "name": "ticker",
         "rawType": "object",
         "type": "string"
        },
        {
         "name": "sector",
         "rawType": "object",
         "type": "string"
        },
        {
         "name": "subsector",
         "rawType": "object",
         "type": "string"
        }
       ],
       "conversionMethod": "pd.DataFrame",
       "ref": "e79d9e7f-cbd5-41a1-9b8a-d8b4f5a87081",
       "rows": [
        [
         "0",
         "Grifols S.A.",
         "GRF.MC",
         "Healthcare",
         "Drug Manufacturers - General"
        ],
        [
         "1",
         "Indra A",
         "IDR.MC",
         "Technology",
         "Information Technology Services"
        ],
        [
         "2",
         "Caixabank SA",
         "CABK.MC",
         "Financial Services",
         "Banks - Regional"
        ],
        [
         "3",
         "Repsol",
         "REP.MC",
         "Energy",
         "Oil & Gas Integrated"
        ],
        [
         "4",
         "Telefonica",
         "TEF.MC",
         "Communication Services",
         "Telecom Services"
        ],
        [
         "5",
         "Bankinter",
         "BKT.MC",
         "Financial Services",
         "Banks - Regional"
        ],
        [
         "6",
         "Amadeus IT Group S.A.",
         "AMS.MC",
         "Technology",
         "Information Technology Services"
        ],
        [
         "7",
         "Mapfre",
         "MAP.MC",
         "Financial Services",
         "Insurance - Diversified"
        ],
        [
         "8",
         "Industria de Diseno Textil SA",
         "ITX.MC",
         "Consumer Cyclical",
         "Apparel Retail"
        ],
        [
         "9",
         "Banco de Sabadell S.A",
         "SAB.MC",
         "Financial Services",
         "Banks - Diversified"
        ],
        [
         "10",
         "ArcelorMittal SA",
         "MTS.MC",
         "Basic Materials",
         "Steel"
        ],
        [
         "11",
         "Acciona",
         "ANA.MC",
         "Industrials",
         "Engineering & Construction"
        ],
        [
         "12",
         "Banco Santander",
         "SAN.MC",
         "Financial Services",
         "Banks - Diversified"
        ],
        [
         "13",
         "Enagás S.A.",
         "ENG.MC",
         "Utilities",
         "Utilities - Regulated Gas"
        ],
        [
         "14",
         "Acerinox",
         "ACX.MC",
         "Basic Materials",
         "Steel"
        ],
        [
         "15",
         "International Consolidated Airlines Group S.A",
         "IAG.MC",
         "Industrials",
         "Airlines"
        ],
        [
         "16",
         "Ferrovial S.A.",
         "FER.MC",
         "Industrials",
         "Infrastructure Operations"
        ],
        [
         "17",
         "Iberdrola S.A.",
         "IBE.MC",
         "Utilities",
         "Utilities - Diversified"
        ],
        [
         "18",
         "ACS Actividades de Construccion y Servicios SA",
         "ACS.MC",
         "Industrials",
         "Engineering & Construction"
        ],
        [
         "19",
         "Banco Bilbao Vizcaya Argentaria SA",
         "BBVA.MC",
         "Financial Services",
         "Banks - Diversified"
        ],
        [
         "20",
         "Endesa SA",
         "ELE.MC",
         "Utilities",
         "Utilities - Regulated Electric"
        ],
        [
         "21",
         "Solaria Energía y Medio Ambiente S.A",
         "SLR.MC",
         "Utilities",
         "Utilities - Renewable"
        ],
        [
         "22",
         "Aena SA",
         "AENA.MC",
         "Industrials",
         "Airports & Air Services"
        ],
        [
         "23",
         "Cellnex Telecom SA",
         "CLNX.MC",
         "Real Estate",
         "Real Estate Services"
        ],
        [
         "24",
         "Cia de Distribucion Integral",
         "LOG.MC",
         "Industrials",
         "Integrated Freight & Logistics"
        ],
        [
         "25",
         "Fluidra",
         "FDR.MC",
         "Industrials",
         "Specialty Industrial Machinery"
        ],
        [
         "26",
         "Inmobiliaria Colonial SA",
         "COL.MC",
         "Real Estate",
         "REIT - Office"
        ],
        [
         "27",
         "Laboratorios Farmaceuticos ROVI",
         "ROVI.MC",
         "Healthcare",
         "Drug Manufacturers - Specialty & Generic"
        ],
        [
         "28",
         "Merlin Properties SOCIMI SA",
         "MRL.MC",
         "Real Estate",
         "REIT - Office"
        ],
        [
         "29",
         "Sacyr SA",
         "SCYR.MC",
         "Industrials",
         "Engineering & Construction"
        ],
        [
         "30",
         "Unicaja Banco SA",
         "UNI.MC",
         "Financial Services",
         "Banks - Regional"
        ],
        [
         "31",
         "Naturgy Energy Group SA",
         "NTGY.MC",
         "Utilities",
         "Utilities - Regulated Gas"
        ],
        [
         "32",
         "Corporacion Acciona Energias Renovables SA",
         "ANE.MC",
         "Utilities",
         "Utilities - Renewable"
        ],
        [
         "33",
         "Redeia Corporacion S.A.",
         "RED.MC",
         "Utilities",
         "Utilities - Regulated Electric"
        ],
        [
         "34",
         "PUIG Brands",
         "PUIG.MC",
         "Specialty Retailers",
         "Consumer Cyclicals"
        ]
       ],
       "shape": {
        "columns": 4,
        "rows": 35
       }
      },
      "text/html": [
       "<div>\n",
       "<style scoped>\n",
       "    .dataframe tbody tr th:only-of-type {\n",
       "        vertical-align: middle;\n",
       "    }\n",
       "\n",
       "    .dataframe tbody tr th {\n",
       "        vertical-align: top;\n",
       "    }\n",
       "\n",
       "    .dataframe thead th {\n",
       "        text-align: right;\n",
       "    }\n",
       "</style>\n",
       "<table border=\"1\" class=\"dataframe\">\n",
       "  <thead>\n",
       "    <tr style=\"text-align: right;\">\n",
       "      <th></th>\n",
       "      <th>nombre</th>\n",
       "      <th>ticker</th>\n",
       "      <th>sector</th>\n",
       "      <th>subsector</th>\n",
       "    </tr>\n",
       "  </thead>\n",
       "  <tbody>\n",
       "    <tr>\n",
       "      <th>0</th>\n",
       "      <td>Grifols S.A.</td>\n",
       "      <td>GRF.MC</td>\n",
       "      <td>Healthcare</td>\n",
       "      <td>Drug Manufacturers - General</td>\n",
       "    </tr>\n",
       "    <tr>\n",
       "      <th>1</th>\n",
       "      <td>Indra A</td>\n",
       "      <td>IDR.MC</td>\n",
       "      <td>Technology</td>\n",
       "      <td>Information Technology Services</td>\n",
       "    </tr>\n",
       "    <tr>\n",
       "      <th>2</th>\n",
       "      <td>Caixabank SA</td>\n",
       "      <td>CABK.MC</td>\n",
       "      <td>Financial Services</td>\n",
       "      <td>Banks - Regional</td>\n",
       "    </tr>\n",
       "    <tr>\n",
       "      <th>3</th>\n",
       "      <td>Repsol</td>\n",
       "      <td>REP.MC</td>\n",
       "      <td>Energy</td>\n",
       "      <td>Oil &amp; Gas Integrated</td>\n",
       "    </tr>\n",
       "    <tr>\n",
       "      <th>4</th>\n",
       "      <td>Telefonica</td>\n",
       "      <td>TEF.MC</td>\n",
       "      <td>Communication Services</td>\n",
       "      <td>Telecom Services</td>\n",
       "    </tr>\n",
       "    <tr>\n",
       "      <th>5</th>\n",
       "      <td>Bankinter</td>\n",
       "      <td>BKT.MC</td>\n",
       "      <td>Financial Services</td>\n",
       "      <td>Banks - Regional</td>\n",
       "    </tr>\n",
       "    <tr>\n",
       "      <th>6</th>\n",
       "      <td>Amadeus IT Group S.A.</td>\n",
       "      <td>AMS.MC</td>\n",
       "      <td>Technology</td>\n",
       "      <td>Information Technology Services</td>\n",
       "    </tr>\n",
       "    <tr>\n",
       "      <th>7</th>\n",
       "      <td>Mapfre</td>\n",
       "      <td>MAP.MC</td>\n",
       "      <td>Financial Services</td>\n",
       "      <td>Insurance - Diversified</td>\n",
       "    </tr>\n",
       "    <tr>\n",
       "      <th>8</th>\n",
       "      <td>Industria de Diseno Textil SA</td>\n",
       "      <td>ITX.MC</td>\n",
       "      <td>Consumer Cyclical</td>\n",
       "      <td>Apparel Retail</td>\n",
       "    </tr>\n",
       "    <tr>\n",
       "      <th>9</th>\n",
       "      <td>Banco de Sabadell S.A</td>\n",
       "      <td>SAB.MC</td>\n",
       "      <td>Financial Services</td>\n",
       "      <td>Banks - Diversified</td>\n",
       "    </tr>\n",
       "    <tr>\n",
       "      <th>10</th>\n",
       "      <td>ArcelorMittal SA</td>\n",
       "      <td>MTS.MC</td>\n",
       "      <td>Basic Materials</td>\n",
       "      <td>Steel</td>\n",
       "    </tr>\n",
       "    <tr>\n",
       "      <th>11</th>\n",
       "      <td>Acciona</td>\n",
       "      <td>ANA.MC</td>\n",
       "      <td>Industrials</td>\n",
       "      <td>Engineering &amp; Construction</td>\n",
       "    </tr>\n",
       "    <tr>\n",
       "      <th>12</th>\n",
       "      <td>Banco Santander</td>\n",
       "      <td>SAN.MC</td>\n",
       "      <td>Financial Services</td>\n",
       "      <td>Banks - Diversified</td>\n",
       "    </tr>\n",
       "    <tr>\n",
       "      <th>13</th>\n",
       "      <td>Enagás S.A.</td>\n",
       "      <td>ENG.MC</td>\n",
       "      <td>Utilities</td>\n",
       "      <td>Utilities - Regulated Gas</td>\n",
       "    </tr>\n",
       "    <tr>\n",
       "      <th>14</th>\n",
       "      <td>Acerinox</td>\n",
       "      <td>ACX.MC</td>\n",
       "      <td>Basic Materials</td>\n",
       "      <td>Steel</td>\n",
       "    </tr>\n",
       "    <tr>\n",
       "      <th>15</th>\n",
       "      <td>International Consolidated Airlines Group S.A</td>\n",
       "      <td>IAG.MC</td>\n",
       "      <td>Industrials</td>\n",
       "      <td>Airlines</td>\n",
       "    </tr>\n",
       "    <tr>\n",
       "      <th>16</th>\n",
       "      <td>Ferrovial S.A.</td>\n",
       "      <td>FER.MC</td>\n",
       "      <td>Industrials</td>\n",
       "      <td>Infrastructure Operations</td>\n",
       "    </tr>\n",
       "    <tr>\n",
       "      <th>17</th>\n",
       "      <td>Iberdrola S.A.</td>\n",
       "      <td>IBE.MC</td>\n",
       "      <td>Utilities</td>\n",
       "      <td>Utilities - Diversified</td>\n",
       "    </tr>\n",
       "    <tr>\n",
       "      <th>18</th>\n",
       "      <td>ACS Actividades de Construccion y Servicios SA</td>\n",
       "      <td>ACS.MC</td>\n",
       "      <td>Industrials</td>\n",
       "      <td>Engineering &amp; Construction</td>\n",
       "    </tr>\n",
       "    <tr>\n",
       "      <th>19</th>\n",
       "      <td>Banco Bilbao Vizcaya Argentaria SA</td>\n",
       "      <td>BBVA.MC</td>\n",
       "      <td>Financial Services</td>\n",
       "      <td>Banks - Diversified</td>\n",
       "    </tr>\n",
       "    <tr>\n",
       "      <th>20</th>\n",
       "      <td>Endesa SA</td>\n",
       "      <td>ELE.MC</td>\n",
       "      <td>Utilities</td>\n",
       "      <td>Utilities - Regulated Electric</td>\n",
       "    </tr>\n",
       "    <tr>\n",
       "      <th>21</th>\n",
       "      <td>Solaria Energía y Medio Ambiente S.A</td>\n",
       "      <td>SLR.MC</td>\n",
       "      <td>Utilities</td>\n",
       "      <td>Utilities - Renewable</td>\n",
       "    </tr>\n",
       "    <tr>\n",
       "      <th>22</th>\n",
       "      <td>Aena SA</td>\n",
       "      <td>AENA.MC</td>\n",
       "      <td>Industrials</td>\n",
       "      <td>Airports &amp; Air Services</td>\n",
       "    </tr>\n",
       "    <tr>\n",
       "      <th>23</th>\n",
       "      <td>Cellnex Telecom SA</td>\n",
       "      <td>CLNX.MC</td>\n",
       "      <td>Real Estate</td>\n",
       "      <td>Real Estate Services</td>\n",
       "    </tr>\n",
       "    <tr>\n",
       "      <th>24</th>\n",
       "      <td>Cia de Distribucion Integral</td>\n",
       "      <td>LOG.MC</td>\n",
       "      <td>Industrials</td>\n",
       "      <td>Integrated Freight &amp; Logistics</td>\n",
       "    </tr>\n",
       "    <tr>\n",
       "      <th>25</th>\n",
       "      <td>Fluidra</td>\n",
       "      <td>FDR.MC</td>\n",
       "      <td>Industrials</td>\n",
       "      <td>Specialty Industrial Machinery</td>\n",
       "    </tr>\n",
       "    <tr>\n",
       "      <th>26</th>\n",
       "      <td>Inmobiliaria Colonial SA</td>\n",
       "      <td>COL.MC</td>\n",
       "      <td>Real Estate</td>\n",
       "      <td>REIT - Office</td>\n",
       "    </tr>\n",
       "    <tr>\n",
       "      <th>27</th>\n",
       "      <td>Laboratorios Farmaceuticos ROVI</td>\n",
       "      <td>ROVI.MC</td>\n",
       "      <td>Healthcare</td>\n",
       "      <td>Drug Manufacturers - Specialty &amp; Generic</td>\n",
       "    </tr>\n",
       "    <tr>\n",
       "      <th>28</th>\n",
       "      <td>Merlin Properties SOCIMI SA</td>\n",
       "      <td>MRL.MC</td>\n",
       "      <td>Real Estate</td>\n",
       "      <td>REIT - Office</td>\n",
       "    </tr>\n",
       "    <tr>\n",
       "      <th>29</th>\n",
       "      <td>Sacyr SA</td>\n",
       "      <td>SCYR.MC</td>\n",
       "      <td>Industrials</td>\n",
       "      <td>Engineering &amp; Construction</td>\n",
       "    </tr>\n",
       "    <tr>\n",
       "      <th>30</th>\n",
       "      <td>Unicaja Banco SA</td>\n",
       "      <td>UNI.MC</td>\n",
       "      <td>Financial Services</td>\n",
       "      <td>Banks - Regional</td>\n",
       "    </tr>\n",
       "    <tr>\n",
       "      <th>31</th>\n",
       "      <td>Naturgy Energy Group SA</td>\n",
       "      <td>NTGY.MC</td>\n",
       "      <td>Utilities</td>\n",
       "      <td>Utilities - Regulated Gas</td>\n",
       "    </tr>\n",
       "    <tr>\n",
       "      <th>32</th>\n",
       "      <td>Corporacion Acciona Energias Renovables SA</td>\n",
       "      <td>ANE.MC</td>\n",
       "      <td>Utilities</td>\n",
       "      <td>Utilities - Renewable</td>\n",
       "    </tr>\n",
       "    <tr>\n",
       "      <th>33</th>\n",
       "      <td>Redeia Corporacion S.A.</td>\n",
       "      <td>RED.MC</td>\n",
       "      <td>Utilities</td>\n",
       "      <td>Utilities - Regulated Electric</td>\n",
       "    </tr>\n",
       "    <tr>\n",
       "      <th>34</th>\n",
       "      <td>PUIG Brands</td>\n",
       "      <td>PUIG.MC</td>\n",
       "      <td>Specialty Retailers</td>\n",
       "      <td>Consumer Cyclicals</td>\n",
       "    </tr>\n",
       "  </tbody>\n",
       "</table>\n",
       "</div>"
      ],
      "text/plain": [
       "                                            nombre   ticker  \\\n",
       "0                                     Grifols S.A.   GRF.MC   \n",
       "1                                          Indra A   IDR.MC   \n",
       "2                                     Caixabank SA  CABK.MC   \n",
       "3                                           Repsol   REP.MC   \n",
       "4                                       Telefonica   TEF.MC   \n",
       "5                                        Bankinter   BKT.MC   \n",
       "6                            Amadeus IT Group S.A.   AMS.MC   \n",
       "7                                           Mapfre   MAP.MC   \n",
       "8                    Industria de Diseno Textil SA   ITX.MC   \n",
       "9                            Banco de Sabadell S.A   SAB.MC   \n",
       "10                                ArcelorMittal SA   MTS.MC   \n",
       "11                                         Acciona   ANA.MC   \n",
       "12                                 Banco Santander   SAN.MC   \n",
       "13                                     Enagás S.A.   ENG.MC   \n",
       "14                                        Acerinox   ACX.MC   \n",
       "15   International Consolidated Airlines Group S.A   IAG.MC   \n",
       "16                                  Ferrovial S.A.   FER.MC   \n",
       "17                                  Iberdrola S.A.   IBE.MC   \n",
       "18  ACS Actividades de Construccion y Servicios SA   ACS.MC   \n",
       "19              Banco Bilbao Vizcaya Argentaria SA  BBVA.MC   \n",
       "20                                       Endesa SA   ELE.MC   \n",
       "21            Solaria Energía y Medio Ambiente S.A   SLR.MC   \n",
       "22                                         Aena SA  AENA.MC   \n",
       "23                              Cellnex Telecom SA  CLNX.MC   \n",
       "24                    Cia de Distribucion Integral   LOG.MC   \n",
       "25                                         Fluidra   FDR.MC   \n",
       "26                        Inmobiliaria Colonial SA   COL.MC   \n",
       "27                 Laboratorios Farmaceuticos ROVI  ROVI.MC   \n",
       "28                     Merlin Properties SOCIMI SA   MRL.MC   \n",
       "29                                        Sacyr SA  SCYR.MC   \n",
       "30                                Unicaja Banco SA   UNI.MC   \n",
       "31                         Naturgy Energy Group SA  NTGY.MC   \n",
       "32      Corporacion Acciona Energias Renovables SA   ANE.MC   \n",
       "33                         Redeia Corporacion S.A.   RED.MC   \n",
       "34                                     PUIG Brands  PUIG.MC   \n",
       "\n",
       "                    sector                                 subsector  \n",
       "0               Healthcare              Drug Manufacturers - General  \n",
       "1               Technology           Information Technology Services  \n",
       "2       Financial Services                          Banks - Regional  \n",
       "3                   Energy                      Oil & Gas Integrated  \n",
       "4   Communication Services                          Telecom Services  \n",
       "5       Financial Services                          Banks - Regional  \n",
       "6               Technology           Information Technology Services  \n",
       "7       Financial Services                   Insurance - Diversified  \n",
       "8        Consumer Cyclical                            Apparel Retail  \n",
       "9       Financial Services                       Banks - Diversified  \n",
       "10         Basic Materials                                     Steel  \n",
       "11             Industrials                Engineering & Construction  \n",
       "12      Financial Services                       Banks - Diversified  \n",
       "13               Utilities                 Utilities - Regulated Gas  \n",
       "14         Basic Materials                                     Steel  \n",
       "15             Industrials                                  Airlines  \n",
       "16             Industrials                 Infrastructure Operations  \n",
       "17               Utilities                   Utilities - Diversified  \n",
       "18             Industrials                Engineering & Construction  \n",
       "19      Financial Services                       Banks - Diversified  \n",
       "20               Utilities            Utilities - Regulated Electric  \n",
       "21               Utilities                     Utilities - Renewable  \n",
       "22             Industrials                   Airports & Air Services  \n",
       "23             Real Estate                      Real Estate Services  \n",
       "24             Industrials            Integrated Freight & Logistics  \n",
       "25             Industrials            Specialty Industrial Machinery  \n",
       "26             Real Estate                             REIT - Office  \n",
       "27              Healthcare  Drug Manufacturers - Specialty & Generic  \n",
       "28             Real Estate                             REIT - Office  \n",
       "29             Industrials                Engineering & Construction  \n",
       "30      Financial Services                          Banks - Regional  \n",
       "31               Utilities                 Utilities - Regulated Gas  \n",
       "32               Utilities                     Utilities - Renewable  \n",
       "33               Utilities            Utilities - Regulated Electric  \n",
       "34     Specialty Retailers                        Consumer Cyclicals  "
      ]
     },
     "execution_count": 34,
     "metadata": {},
     "output_type": "execute_result"
    }
   ],
   "source": [
    "empresas_IBEX35"
   ]
  },
  {
   "cell_type": "code",
   "execution_count": 35,
   "id": "c5efbffe",
   "metadata": {},
   "outputs": [
    {
     "name": "stdout",
     "output_type": "stream",
     "text": [
      "<class 'pandas.core.frame.DataFrame'>\n",
      "RangeIndex: 35 entries, 0 to 34\n",
      "Data columns (total 4 columns):\n",
      " #   Column     Non-Null Count  Dtype \n",
      "---  ------     --------------  ----- \n",
      " 0   nombre     35 non-null     object\n",
      " 1   ticker     35 non-null     object\n",
      " 2   sector     35 non-null     object\n",
      " 3   subsector  35 non-null     object\n",
      "dtypes: object(4)\n",
      "memory usage: 1.2+ KB\n"
     ]
    }
   ],
   "source": [
    "#analizamos la tabla empresas_IBEX35\n",
    "empresas_IBEX35.info()"
   ]
  },
  {
   "cell_type": "code",
   "execution_count": 36,
   "id": "ca276c82",
   "metadata": {},
   "outputs": [
    {
     "data": {
      "application/vnd.microsoft.datawrangler.viewer.v0+json": {
       "columns": [
        {
         "name": "index",
         "rawType": "object",
         "type": "string"
        },
        {
         "name": "nombre",
         "rawType": "object",
         "type": "unknown"
        },
        {
         "name": "ticker",
         "rawType": "object",
         "type": "unknown"
        },
        {
         "name": "sector",
         "rawType": "object",
         "type": "unknown"
        },
        {
         "name": "subsector",
         "rawType": "object",
         "type": "unknown"
        }
       ],
       "conversionMethod": "pd.DataFrame",
       "ref": "ad8f6d68-1864-432e-8579-f849a0248002",
       "rows": [
        [
         "count",
         "35",
         "35",
         "35",
         "35"
        ],
        [
         "unique",
         "35",
         "35",
         "11",
         "23"
        ],
        [
         "top",
         "Grifols S.A.",
         "GRF.MC",
         "Industrials",
         "Banks - Regional"
        ],
        [
         "freq",
         "1",
         "1",
         "8",
         "3"
        ]
       ],
       "shape": {
        "columns": 4,
        "rows": 4
       }
      },
      "text/html": [
       "<div>\n",
       "<style scoped>\n",
       "    .dataframe tbody tr th:only-of-type {\n",
       "        vertical-align: middle;\n",
       "    }\n",
       "\n",
       "    .dataframe tbody tr th {\n",
       "        vertical-align: top;\n",
       "    }\n",
       "\n",
       "    .dataframe thead th {\n",
       "        text-align: right;\n",
       "    }\n",
       "</style>\n",
       "<table border=\"1\" class=\"dataframe\">\n",
       "  <thead>\n",
       "    <tr style=\"text-align: right;\">\n",
       "      <th></th>\n",
       "      <th>nombre</th>\n",
       "      <th>ticker</th>\n",
       "      <th>sector</th>\n",
       "      <th>subsector</th>\n",
       "    </tr>\n",
       "  </thead>\n",
       "  <tbody>\n",
       "    <tr>\n",
       "      <th>count</th>\n",
       "      <td>35</td>\n",
       "      <td>35</td>\n",
       "      <td>35</td>\n",
       "      <td>35</td>\n",
       "    </tr>\n",
       "    <tr>\n",
       "      <th>unique</th>\n",
       "      <td>35</td>\n",
       "      <td>35</td>\n",
       "      <td>11</td>\n",
       "      <td>23</td>\n",
       "    </tr>\n",
       "    <tr>\n",
       "      <th>top</th>\n",
       "      <td>Grifols S.A.</td>\n",
       "      <td>GRF.MC</td>\n",
       "      <td>Industrials</td>\n",
       "      <td>Banks - Regional</td>\n",
       "    </tr>\n",
       "    <tr>\n",
       "      <th>freq</th>\n",
       "      <td>1</td>\n",
       "      <td>1</td>\n",
       "      <td>8</td>\n",
       "      <td>3</td>\n",
       "    </tr>\n",
       "  </tbody>\n",
       "</table>\n",
       "</div>"
      ],
      "text/plain": [
       "              nombre  ticker       sector         subsector\n",
       "count             35      35           35                35\n",
       "unique            35      35           11                23\n",
       "top     Grifols S.A.  GRF.MC  Industrials  Banks - Regional\n",
       "freq               1       1            8                 3"
      ]
     },
     "execution_count": 36,
     "metadata": {},
     "output_type": "execute_result"
    }
   ],
   "source": [
    "empresas_IBEX35.describe(include='all')"
   ]
  },
  {
   "cell_type": "code",
   "execution_count": 37,
   "id": "e7613eea",
   "metadata": {},
   "outputs": [
    {
     "data": {
      "text/plain": [
       "nombre       0\n",
       "ticker       0\n",
       "sector       0\n",
       "subsector    0\n",
       "dtype: int64"
      ]
     },
     "execution_count": 37,
     "metadata": {},
     "output_type": "execute_result"
    }
   ],
   "source": [
    "#hacemos un conteo de los valores nulos\n",
    "empresas_IBEX35.isnull().sum()"
   ]
  },
  {
   "cell_type": "code",
   "execution_count": 39,
   "id": "53e8cec9",
   "metadata": {},
   "outputs": [
    {
     "data": {
      "text/plain": [
       "([0, 1, 2, 3, 4, 5, 6, 7, 8, 9, 10],\n",
       " [Text(0, 0, 'Industrials'),\n",
       "  Text(1, 0, 'Utilities'),\n",
       "  Text(2, 0, 'Financial Services'),\n",
       "  Text(3, 0, 'Real Estate'),\n",
       "  Text(4, 0, 'Healthcare'),\n",
       "  Text(5, 0, 'Technology'),\n",
       "  Text(6, 0, 'Basic Materials'),\n",
       "  Text(7, 0, 'Consumer Cyclical'),\n",
       "  Text(8, 0, 'Communication Services'),\n",
       "  Text(9, 0, 'Energy'),\n",
       "  Text(10, 0, 'Specialty Retailers')])"
      ]
     },
     "execution_count": 39,
     "metadata": {},
     "output_type": "execute_result"
    },
    {
     "data": {
      "image/png": "[encoded data removed]",
      "text/plain": [
       "<Figure size 1000x500 with 1 Axes>"
      ]
     },
     "metadata": {},
     "output_type": "display_data"
    }
   ],
   "source": [
    "#vemos un barplot de los sectores\n",
    "plt.figure(figsize=(10,5))\n",
    "sns.countplot(data=empresas_IBEX35, x='sector', order=empresas_IBEX35['sector'].value_counts().index)\n",
    "plt.title('Conteo de empresas por sector')\n",
    "plt.xticks(rotation=90)\n"
   ]
  },
  {
   "cell_type": "code",
   "execution_count": 41,
   "id": "77d14f76",
   "metadata": {},
   "outputs": [
    {
     "data": {
      "application/vnd.microsoft.datawrangler.viewer.v0+json": {
       "columns": [
        {
         "name": "index",
         "rawType": "object",
         "type": "string"
        },
        {
         "name": "sector",
         "rawType": "object",
         "type": "unknown"
        },
        {
         "name": "subsector",
         "rawType": "object",
         "type": "unknown"
        }
       ],
       "conversionMethod": "pd.DataFrame",
       "ref": "4f47b772-27cc-4faf-98cc-2f07be0bc4eb",
       "rows": [
        [
         "count",
         "23",
         "23"
        ],
        [
         "unique",
         "11",
         "23"
        ],
        [
         "top",
         "Industrials",
         "Drug Manufacturers - General"
        ],
        [
         "freq",
         "6",
         "1"
        ]
       ],
       "shape": {
        "columns": 2,
        "rows": 4
       }
      },
      "text/html": [
       "<div>\n",
       "<style scoped>\n",
       "    .dataframe tbody tr th:only-of-type {\n",
       "        vertical-align: middle;\n",
       "    }\n",
       "\n",
       "    .dataframe tbody tr th {\n",
       "        vertical-align: top;\n",
       "    }\n",
       "\n",
       "    .dataframe thead th {\n",
       "        text-align: right;\n",
       "    }\n",
       "</style>\n",
       "<table border=\"1\" class=\"dataframe\">\n",
       "  <thead>\n",
       "    <tr style=\"text-align: right;\">\n",
       "      <th></th>\n",
       "      <th>sector</th>\n",
       "      <th>subsector</th>\n",
       "    </tr>\n",
       "  </thead>\n",
       "  <tbody>\n",
       "    <tr>\n",
       "      <th>count</th>\n",
       "      <td>23</td>\n",
       "      <td>23</td>\n",
       "    </tr>\n",
       "    <tr>\n",
       "      <th>unique</th>\n",
       "      <td>11</td>\n",
       "      <td>23</td>\n",
       "    </tr>\n",
       "    <tr>\n",
       "      <th>top</th>\n",
       "      <td>Industrials</td>\n",
       "      <td>Drug Manufacturers - General</td>\n",
       "    </tr>\n",
       "    <tr>\n",
       "      <th>freq</th>\n",
       "      <td>6</td>\n",
       "      <td>1</td>\n",
       "    </tr>\n",
       "  </tbody>\n",
       "</table>\n",
       "</div>"
      ],
      "text/plain": [
       "             sector                     subsector\n",
       "count            23                            23\n",
       "unique           11                            23\n",
       "top     Industrials  Drug Manufacturers - General\n",
       "freq              6                             1"
      ]
     },
     "execution_count": 41,
     "metadata": {},
     "output_type": "execute_result"
    }
   ],
   "source": [
    "#Comprobamos que cada subsector pertenezca a un sector\n",
    "#creamos un dataframe con los sectores y subsectores\n",
    "sectores_subsectores = empresas_IBEX35[['sector', 'subsector']].drop_duplicates()\n",
    "sectores_subsectores.describe(include='all')"
   ]
  },
  {
   "cell_type": "markdown",
   "id": "69aa96ce",
   "metadata": {},
   "source": [
    "# Tabla empresas ibex35\n",
    "\n",
    "Observamos que existen 35 valores (35 empresas dentro del IBEX 35) y que tanto el Ticker como el nombre son 35 valores únicos ya que cada empresa tiene un nombre y ticker diferentes. \n",
    "\n",
    "En cuanto a los sectores, vemos que existen 11 sectores diferentes y que el top 3 son industrials, utilities y financial services (representan 22 de 35 empresas entre ellos).\n",
    "\n",
    "Comprobamos también que cada subsector pertenezca a un solo sector para asegurar la veracidad de los datos. \n",
    "\n",
    "Los tipos de las columnas son correctos al ser todos object ya que son textos.\n"
   ]
  },
  {
   "cell_type": "code",
   "execution_count": 101,
   "id": "d4113b73",
   "metadata": {},
   "outputs": [
    {
     "data": {
      "application/vnd.microsoft.datawrangler.viewer.v0+json": {
       "columns": [
        {
         "name": "index",
         "rawType": "int64",
         "type": "integer"
        },
        {
         "name": "id",
         "rawType": "int64",
         "type": "integer"
        },
        {
         "name": "ticker",
         "rawType": "object",
         "type": "string"
        },
        {
         "name": "año",
         "rawType": "int64",
         "type": "integer"
        },
        {
         "name": "PER",
         "rawType": "float64",
         "type": "float"
        },
        {
         "name": "ROE",
         "rawType": "float64",
         "type": "float"
        },
        {
         "name": "EV/EBIT",
         "rawType": "float64",
         "type": "float"
        },
        {
         "name": "Dividend Yield",
         "rawType": "float64",
         "type": "float"
        },
        {
         "name": "Deuda_finan/EBIT",
         "rawType": "float64",
         "type": "float"
        }
       ],
       "conversionMethod": "pd.DataFrame",
       "ref": "05ba4bcb-ae74-476c-82f0-925f11ecdaee",
       "rows": [
        [
         "0",
         "2176",
         "ACS.MC",
         "2020",
         "6.763835803805591",
         "0.2539479475434033",
         "21.638369679846218",
         "0.0987",
         "23.20932004872987"
        ],
        [
         "1",
         "2177",
         "ACS.MC",
         "2021",
         "-7.718405786546791",
         "-0.1155407129181043",
         "151.19928854412083",
         "0.0915",
         "195.41334569819708"
        ],
        [
         "2",
         "2178",
         "ACS.MC",
         "2022",
         "9.477766142343844",
         "0.1204577787488039",
         "20.19958345576085",
         "0.0858",
         "23.05701650850605"
        ],
        [
         "3",
         "2179",
         "ACS.MC",
         "2023",
         "12.512750312450729",
         "0.1463804966357496",
         "18.21941224297466",
         "0.0525",
         "17.71990507667881"
        ],
        [
         "4",
         "2180",
         "ACS.MC",
         "2024",
         "14.950232069407187",
         "0.1755499804527288",
         "15.725971034314536",
         "0.0421",
         "15.203905902901797"
        ],
        [
         "5",
         "2181",
         "ACX.MC",
         "2020",
         "38.717526697792",
         "0.0312013760691698",
         "18.07977216529695",
         "0.0856",
         "12.638195410388416"
        ],
        [
         "6",
         "2182",
         "ACX.MC",
         "2021",
         "4.380774317079398",
         "0.2653695523052936",
         "4.589205127576115",
         "0.0542",
         "3.0800794330277523"
        ],
        [
         "7",
         "2183",
         "ACX.MC",
         "2022",
         "3.5512836523071503",
         "0.224750282628369",
         "3.612558650423244",
         "0.0631",
         "3.1382128825257203"
        ],
        [
         "8",
         "2184",
         "ACX.MC",
         "2023",
         "10.586272329569365",
         "0.0947206271305373",
         "7.705619841845444",
         "0.0619",
         "6.344188838907161"
        ],
        [
         "9",
         "2185",
         "ACX.MC",
         "2024",
         "10.148808940812462",
         "0.0890058508687275",
         "9.540285371212054",
         "0.0677",
         "7.271902711933754"
        ],
        [
         "10",
         "2186",
         "AENA.MC",
         "2023",
         "13.80864886492267",
         "0.2138126114007503",
         "12.522899928337816",
         "0.0316",
         "4.056087211114444"
        ],
        [
         "11",
         "2187",
         "AENA.MC",
         "2024",
         "14.62291854511163",
         "0.2337039379265297",
         "12.489507980337692",
         "0.0406",
         "3.0133275990304207"
        ],
        [
         "12",
         "2188",
         "AMS.MC",
         "2020",
         "-41.80400744818653",
         "-0.1649220252082888",
         "-39.9140234670704",
         "0.0098",
         "-9.302043906131718"
        ],
        [
         "13",
         "2189",
         "AMS.MC",
         "2023",
         "25.91474409448819",
         "0.2492751037159298",
         "22.91707515326858",
         "0.0117",
         "3.681476889164428"
        ],
        [
         "14",
         "2190",
         "AMS.MC",
         "2024",
         "24.423502793296088",
         "0.2474524054032704",
         "21.23699274047187",
         "0.0183",
         "3.358257713248639"
        ],
        [
         "15",
         "2191",
         "ANA.MC",
         "2020",
         "14.450167166168889",
         "0.1136833114466064",
         "24.76149962848084",
         "0.0189",
         "19.535942223439665"
        ],
        [
         "16",
         "2192",
         "ANA.MC",
         "2021",
         "25.060930590361448",
         "0.0769993626679258",
         "22.77672805189719",
         "0.0257",
         "15.242383123371308"
        ],
        [
         "17",
         "2193",
         "ANA.MC",
         "2022",
         "14.19170293495935",
         "0.1258955987717502",
         "17.404221814655173",
         "0.0275",
         "11.914655172413791"
        ],
        [
         "18",
         "2194",
         "ANA.MC",
         "2023",
         "12.901887149722736",
         "0.1080055899381114",
         "20.326208948853616",
         "0.0354",
         "17.44620811287478"
        ],
        [
         "19",
         "2195",
         "ANA.MC",
         "2024",
         "14.019234763033175",
         "0.0876974231088944",
         "17.248852473647226",
         "0.045",
         "16.070976809557273"
        ],
        [
         "20",
         "2196",
         "ANE.MC",
         "2022",
         "15.15602191831357",
         "0.1293015332197615",
         "14.54962566346992",
         "0.0081",
         "5.054054054054054"
        ],
        [
         "21",
         "2197",
         "ANE.MC",
         "2023",
         "16.51482316221374",
         "0.0895726495726495",
         "18.411897609944752",
         "0.0255",
         "9.662983425414364"
        ],
        [
         "22",
         "2198",
         "ANE.MC",
         "2024",
         "16.161562352941175",
         "0.0610987506417936",
         "20.10247725593668",
         "0.0275",
         "13.143799472295514"
        ],
        [
         "23",
         "2199",
         "BBVA.MC",
         "2020",
         "5.881982917708334",
         "0.0861991559665978",
         "72.98062565655172",
         "0.0519",
         "99.02793103448276"
        ],
        [
         "24",
         "2200",
         "BBVA.MC",
         "2021",
         "5.922566001289491",
         "0.1059739904798779",
         "22.722878377811508",
         "0.0341",
         "29.20891403339313"
        ],
        [
         "25",
         "2201",
         "BBVA.MC",
         "2022",
         "4.440007604828661",
         "0.1369015886555069",
         "14.955859767112273",
         "0.074",
         "20.643582269574832"
        ],
        [
         "26",
         "2202",
         "BBVA.MC",
         "2023",
         "5.387300032422996",
         "0.1551033829132898",
         "53.70921643932684",
         "0.0635",
         "58.28625493195909"
        ],
        [
         "27",
         "2203",
         "BBVA.MC",
         "2024",
         "5.499296299980108",
         "0.180648638936304",
         "44.78954397922752",
         "0.0748",
         "46.52690684842584"
        ],
        [
         "28",
         "2204",
         "BKT.MC",
         "2020",
         "12.634736081917692",
         "0.0350766504766066",
         "382.0694198678713",
         "0.0408",
         "450.8061038890238"
        ],
        [
         "29",
         "2205",
         "BKT.MC",
         "2021",
         "8.253040197970476",
         "0.0819084696300204",
         "55.46753056607516",
         "0.063",
         "69.55683571676954"
        ],
        [
         "30",
         "2206",
         "BKT.MC",
         "2022",
         "8.550277035288994",
         "0.1142112301127855",
         "124.75179720671213",
         "0.0507",
         "136.19073749694363"
        ],
        [
         "31",
         "2207",
         "BKT.MC",
         "2023",
         "5.680338582388223",
         "0.1587068424592424",
         "79.90694724225631",
         "0.0843",
         "89.35146187352007"
        ],
        [
         "32",
         "2208",
         "BKT.MC",
         "2024",
         "7.1196012522941405",
         "0.1621342829167705",
         "57.61626533768148",
         "0.0689",
         "63.813636511642926"
        ],
        [
         "33",
         "2209",
         "CABK.MC",
         "2020",
         "6.881998957277336",
         "0.0546865718924484",
         "286.2384458594918",
         "0.044",
         "317.711509715994"
        ],
        [
         "34",
         "2210",
         "CABK.MC",
         "2021",
         "2.850907524875622",
         "0.1476521444312595",
         "112.24880298378926",
         "0.0162",
         "130.36028368794325"
        ],
        [
         "35",
         "2211",
         "CABK.MC",
         "2022",
         "7.065721679450304",
         "0.0914110429447852",
         "134.98009261179598",
         "0.0508",
         "134.59656756103456"
        ],
        [
         "36",
         "2212",
         "CABK.MC",
         "2023",
         "4.895100332225914",
         "0.1326465970749442",
         "83.63236537708866",
         "0.0719",
         "85.78292939936776"
        ],
        [
         "37",
         "2213",
         "CABK.MC",
         "2024",
         "6.161893970969413",
         "0.1571230756699519",
         "62.63854518402252",
         "0.1078",
         "64.16973370859493"
        ],
        [
         "38",
         "2214",
         "CLNX.MC",
         "2020",
         "-230.8631882043576",
         "-0.0165996590023467",
         "462.0693244721403",
         "0.0013",
         "173.96052239053333"
        ],
        [
         "39",
         "2215",
         "CLNX.MC",
         "2021",
         "-89.6261039245541",
         "-0.0271805576777804",
         "-1162.9915098153704",
         "0.0014",
         "-545.1649988926249"
        ],
        [
         "40",
         "2216",
         "CLNX.MC",
         "2022",
         "-67.16503402293121",
         "-0.0220050410991269",
         "214.8976930868168",
         "0.0006",
         "128.0801990092987"
        ],
        [
         "41",
         "2217",
         "CLNX.MC",
         "2023",
         "-84.48160982773705",
         "-0.0213263371581827",
         "131.85508850638888",
         "0.0017",
         "73.53195417835961"
        ],
        [
         "42",
         "2218",
         "CLNX.MC",
         "2024",
         "-767.6421750882574",
         "-0.001980720693308",
         "424.12954769798057",
         "0.0023",
         "247.1677500887223"
        ],
        [
         "43",
         "2219",
         "COL.MC",
         "2020",
         "1458.7265513196485",
         "0.0004419921830155",
         "38.85697890434616",
         "0.0292",
         "26.524916051040968"
        ],
        [
         "44",
         "2220",
         "COL.MC",
         "2021",
         "7.93284079925376",
         "0.0789898069172134",
         "17.321284979692216",
         "0.0304",
         "11.3255410610182"
        ],
        [
         "45",
         "2221",
         "COL.MC",
         "2022",
         "365.6311789697957",
         "0.0012954055557783",
         "84.78639530675235",
         "0.0437",
         "61.4571815145237"
        ],
        [
         "46",
         "2222",
         "COL.MC",
         "2023",
         "-3.265091184947982",
         "-0.2064555644794629",
         "-8.737768380731033",
         "0.0399",
         "-6.145355635179387"
        ],
        [
         "47",
         "2223",
         "COL.MC",
         "2024",
         "8.956052245482198",
         "0.0541443850267379",
         "18.79316978558981",
         "0.0521",
         "14.005383524725898"
        ],
        [
         "48",
         "2224",
         "ELE.MC",
         "2020",
         "12.714139278335724",
         "0.1905673274094326",
         "20.151687778128284",
         "0.0884",
         "11.04521556256572"
        ],
        [
         "49",
         "2225",
         "ELE.MC",
         "2021",
         "12.166426570731709",
         "0.266728624535316",
         "22.988792132011607",
         "0.1098",
         "14.882495164410058"
        ]
       ],
       "shape": {
        "columns": 8,
        "rows": 145
       }
      },
      "text/html": [
       "<div>\n",
       "<style scoped>\n",
       "    .dataframe tbody tr th:only-of-type {\n",
       "        vertical-align: middle;\n",
       "    }\n",
       "\n",
       "    .dataframe tbody tr th {\n",
       "        vertical-align: top;\n",
       "    }\n",
       "\n",
       "    .dataframe thead th {\n",
       "        text-align: right;\n",
       "    }\n",
       "</style>\n",
       "<table border=\"1\" class=\"dataframe\">\n",
       "  <thead>\n",
       "    <tr style=\"text-align: right;\">\n",
       "      <th></th>\n",
       "      <th>id</th>\n",
       "      <th>ticker</th>\n",
       "      <th>año</th>\n",
       "      <th>PER</th>\n",
       "      <th>ROE</th>\n",
       "      <th>EV/EBIT</th>\n",
       "      <th>Dividend Yield</th>\n",
       "      <th>Deuda_finan/EBIT</th>\n",
       "    </tr>\n",
       "  </thead>\n",
       "  <tbody>\n",
       "    <tr>\n",
       "      <th>0</th>\n",
       "      <td>2176</td>\n",
       "      <td>ACS.MC</td>\n",
       "      <td>2020</td>\n",
       "      <td>6.763836</td>\n",
       "      <td>0.253948</td>\n",
       "      <td>21.638370</td>\n",
       "      <td>0.0987</td>\n",
       "      <td>23.209320</td>\n",
       "    </tr>\n",
       "    <tr>\n",
       "      <th>1</th>\n",
       "      <td>2177</td>\n",
       "      <td>ACS.MC</td>\n",
       "      <td>2021</td>\n",
       "      <td>-7.718406</td>\n",
       "      <td>-0.115541</td>\n",
       "      <td>151.199289</td>\n",
       "      <td>0.0915</td>\n",
       "      <td>195.413346</td>\n",
       "    </tr>\n",
       "    <tr>\n",
       "      <th>2</th>\n",
       "      <td>2178</td>\n",
       "      <td>ACS.MC</td>\n",
       "      <td>2022</td>\n",
       "      <td>9.477766</td>\n",
       "      <td>0.120458</td>\n",
       "      <td>20.199583</td>\n",
       "      <td>0.0858</td>\n",
       "      <td>23.057017</td>\n",
       "    </tr>\n",
       "    <tr>\n",
       "      <th>3</th>\n",
       "      <td>2179</td>\n",
       "      <td>ACS.MC</td>\n",
       "      <td>2023</td>\n",
       "      <td>12.512750</td>\n",
       "      <td>0.146380</td>\n",
       "      <td>18.219412</td>\n",
       "      <td>0.0525</td>\n",
       "      <td>17.719905</td>\n",
       "    </tr>\n",
       "    <tr>\n",
       "      <th>4</th>\n",
       "      <td>2180</td>\n",
       "      <td>ACS.MC</td>\n",
       "      <td>2024</td>\n",
       "      <td>14.950232</td>\n",
       "      <td>0.175550</td>\n",
       "      <td>15.725971</td>\n",
       "      <td>0.0421</td>\n",
       "      <td>15.203906</td>\n",
       "    </tr>\n",
       "    <tr>\n",
       "      <th>...</th>\n",
       "      <td>...</td>\n",
       "      <td>...</td>\n",
       "      <td>...</td>\n",
       "      <td>...</td>\n",
       "      <td>...</td>\n",
       "      <td>...</td>\n",
       "      <td>...</td>\n",
       "      <td>...</td>\n",
       "    </tr>\n",
       "    <tr>\n",
       "      <th>140</th>\n",
       "      <td>2316</td>\n",
       "      <td>TEF.MC</td>\n",
       "      <td>2024</td>\n",
       "      <td>-453.260816</td>\n",
       "      <td>-0.002533</td>\n",
       "      <td>23.830318</td>\n",
       "      <td>0.0761</td>\n",
       "      <td>19.850633</td>\n",
       "    </tr>\n",
       "    <tr>\n",
       "      <th>141</th>\n",
       "      <td>2317</td>\n",
       "      <td>UNI.MC</td>\n",
       "      <td>2021</td>\n",
       "      <td>1.666680</td>\n",
       "      <td>0.175983</td>\n",
       "      <td>90.201863</td>\n",
       "      <td>0.0143</td>\n",
       "      <td>109.779866</td>\n",
       "    </tr>\n",
       "    <tr>\n",
       "      <th>142</th>\n",
       "      <td>2318</td>\n",
       "      <td>UNI.MC</td>\n",
       "      <td>2022</td>\n",
       "      <td>8.224456</td>\n",
       "      <td>0.042945</td>\n",
       "      <td>281.395171</td>\n",
       "      <td>0.0233</td>\n",
       "      <td>288.829624</td>\n",
       "    </tr>\n",
       "    <tr>\n",
       "      <th>143</th>\n",
       "      <td>2319</td>\n",
       "      <td>UNI.MC</td>\n",
       "      <td>2023</td>\n",
       "      <td>7.755769</td>\n",
       "      <td>0.040144</td>\n",
       "      <td>302.784508</td>\n",
       "      <td>0.0641</td>\n",
       "      <td>324.208845</td>\n",
       "    </tr>\n",
       "    <tr>\n",
       "      <th>144</th>\n",
       "      <td>2320</td>\n",
       "      <td>UNI.MC</td>\n",
       "      <td>2024</td>\n",
       "      <td>5.467175</td>\n",
       "      <td>0.085068</td>\n",
       "      <td>-991.125280</td>\n",
       "      <td>0.0902</td>\n",
       "      <td>-1041.404686</td>\n",
       "    </tr>\n",
       "  </tbody>\n",
       "</table>\n",
       "<p>145 rows × 8 columns</p>\n",
       "</div>"
      ],
      "text/plain": [
       "       id  ticker   año         PER       ROE     EV/EBIT  Dividend Yield  \\\n",
       "0    2176  ACS.MC  2020    6.763836  0.253948   21.638370          0.0987   \n",
       "1    2177  ACS.MC  2021   -7.718406 -0.115541  151.199289          0.0915   \n",
       "2    2178  ACS.MC  2022    9.477766  0.120458   20.199583          0.0858   \n",
       "3    2179  ACS.MC  2023   12.512750  0.146380   18.219412          0.0525   \n",
       "4    2180  ACS.MC  2024   14.950232  0.175550   15.725971          0.0421   \n",
       "..    ...     ...   ...         ...       ...         ...             ...   \n",
       "140  2316  TEF.MC  2024 -453.260816 -0.002533   23.830318          0.0761   \n",
       "141  2317  UNI.MC  2021    1.666680  0.175983   90.201863          0.0143   \n",
       "142  2318  UNI.MC  2022    8.224456  0.042945  281.395171          0.0233   \n",
       "143  2319  UNI.MC  2023    7.755769  0.040144  302.784508          0.0641   \n",
       "144  2320  UNI.MC  2024    5.467175  0.085068 -991.125280          0.0902   \n",
       "\n",
       "     Deuda_finan/EBIT  \n",
       "0           23.209320  \n",
       "1          195.413346  \n",
       "2           23.057017  \n",
       "3           17.719905  \n",
       "4           15.203906  \n",
       "..                ...  \n",
       "140         19.850633  \n",
       "141        109.779866  \n",
       "142        288.829624  \n",
       "143        324.208845  \n",
       "144      -1041.404686  \n",
       "\n",
       "[145 rows x 8 columns]"
      ]
     },
     "execution_count": 101,
     "metadata": {},
     "output_type": "execute_result"
    }
   ],
   "source": [
    "#Cargamos la tabla ratios_ticker_año_IBEX35\n",
    "#conectamos a la base de datos\n",
    "#Eliminamos de la base de datos la columna id y marcamos como primary key la columna ticker\n",
    "#conectamos a la base de datos\n",
    "conn = ps.connect(\n",
    "    dbname= 'IBEX35_Análisis',\n",
    "    user= 'postgres',\n",
    "    password= 'admin',\n",
    "    host= 'localhost',\n",
    "    port= '5432'\n",
    ")\n",
    "#creamos un cursor para ejecutar comandos SQL\n",
    "cur = conn.cursor()\n",
    "#Traemos los datos de la tabla ratios_ticker_año_IBEX35\n",
    "cur.execute('SELECT * FROM \"ratios_ticker_año_IBEX35\"')\n",
    "#guardamos los resultados en una variable\n",
    "ratios_ticker_año_IBEX35 = cur.fetchall()\n",
    "#creamos un dataframe con los resultadoS\n",
    "ratios_ticker_año_IBEX35 = pd.DataFrame(ratios_ticker_año_IBEX35, columns=['id','ticker', 'año', 'PER', 'ROE','EV/EBIT', 'Dividend Yield','Deuda_finan/EBIT'])\n",
    "#cerramos el cursor y la conexión\n",
    "cur.close()\n",
    "conn.close()\n",
    "#mostramos el dataframe\n",
    "ratios_ticker_año_IBEX35"
   ]
  },
  {
   "cell_type": "code",
   "execution_count": 102,
   "id": "a38b1e2b",
   "metadata": {},
   "outputs": [
    {
     "name": "stdout",
     "output_type": "stream",
     "text": [
      "<class 'pandas.core.frame.DataFrame'>\n",
      "RangeIndex: 145 entries, 0 to 144\n",
      "Data columns (total 8 columns):\n",
      " #   Column            Non-Null Count  Dtype  \n",
      "---  ------            --------------  -----  \n",
      " 0   id                145 non-null    int64  \n",
      " 1   ticker            145 non-null    object \n",
      " 2   año               145 non-null    int64  \n",
      " 3   PER               145 non-null    float64\n",
      " 4   ROE               145 non-null    float64\n",
      " 5   EV/EBIT           145 non-null    float64\n",
      " 6   Dividend Yield    145 non-null    float64\n",
      " 7   Deuda_finan/EBIT  145 non-null    float64\n",
      "dtypes: float64(5), int64(2), object(1)\n",
      "memory usage: 9.2+ KB\n"
     ]
    }
   ],
   "source": [
    "ratios_ticker_año_IBEX35.info()"
   ]
  },
  {
   "cell_type": "code",
   "execution_count": 103,
   "id": "65f3efc0",
   "metadata": {},
   "outputs": [
    {
     "data": {
      "application/vnd.microsoft.datawrangler.viewer.v0+json": {
       "columns": [
        {
         "name": "index",
         "rawType": "object",
         "type": "string"
        },
        {
         "name": "count",
         "rawType": "float64",
         "type": "float"
        },
        {
         "name": "mean",
         "rawType": "float64",
         "type": "float"
        },
        {
         "name": "std",
         "rawType": "float64",
         "type": "float"
        },
        {
         "name": "min",
         "rawType": "float64",
         "type": "float"
        },
        {
         "name": "25%",
         "rawType": "float64",
         "type": "float"
        },
        {
         "name": "50%",
         "rawType": "float64",
         "type": "float"
        },
        {
         "name": "75%",
         "rawType": "float64",
         "type": "float"
        },
        {
         "name": "max",
         "rawType": "float64",
         "type": "float"
        }
       ],
       "conversionMethod": "pd.DataFrame",
       "ref": "49ac2cd7-2757-4c5e-b2a2-521d6b502eff",
       "rows": [
        [
         "PER",
         "145.0",
         "13.64523850218576",
         "156.16680741527688",
         "-767.6421750882574",
         "5.387300032422996",
         "10.401756514391158",
         "15.15602191831357",
         "1458.7265513196485"
        ],
        [
         "ROE",
         "145.0",
         "0.13100250580266867",
         "0.12851626515991404",
         "-0.2481795330908487",
         "0.0714864326574707",
         "0.1173457294971927",
         "0.1905673274094326",
         "0.5331687242798354"
        ],
        [
         "EV/EBIT",
         "145.0",
         "24.87245376256962",
         "186.72991886488376",
         "-1196.3837663767265",
         "14.323139488430268",
         "20.21994394618834",
         "48.28608039692394",
         "462.0693244721403"
        ],
        [
         "Dividend Yield",
         "145.0",
         "0.05151448275862069",
         "0.03385951568882804",
         "0.0006",
         "0.0247",
         "0.0469",
         "0.069",
         "0.1603"
        ],
        [
         "Deuda_finan/EBIT",
         "145.0",
         "19.483470074139944",
         "173.83303334508665",
         "-1420.9147869025855",
         "6.501914267377786",
         "13.143799472295514",
         "40.40885311871227",
         "450.8061038890238"
        ]
       ],
       "shape": {
        "columns": 8,
        "rows": 5
       }
      },
      "text/html": [
       "<div>\n",
       "<style scoped>\n",
       "    .dataframe tbody tr th:only-of-type {\n",
       "        vertical-align: middle;\n",
       "    }\n",
       "\n",
       "    .dataframe tbody tr th {\n",
       "        vertical-align: top;\n",
       "    }\n",
       "\n",
       "    .dataframe thead th {\n",
       "        text-align: right;\n",
       "    }\n",
       "</style>\n",
       "<table border=\"1\" class=\"dataframe\">\n",
       "  <thead>\n",
       "    <tr style=\"text-align: right;\">\n",
       "      <th></th>\n",
       "      <th>count</th>\n",
       "      <th>mean</th>\n",
       "      <th>std</th>\n",
       "      <th>min</th>\n",
       "      <th>25%</th>\n",
       "      <th>50%</th>\n",
       "      <th>75%</th>\n",
       "      <th>max</th>\n",
       "    </tr>\n",
       "  </thead>\n",
       "  <tbody>\n",
       "    <tr>\n",
       "      <th>PER</th>\n",
       "      <td>145.0</td>\n",
       "      <td>13.645239</td>\n",
       "      <td>156.166807</td>\n",
       "      <td>-767.642175</td>\n",
       "      <td>5.387300</td>\n",
       "      <td>10.401757</td>\n",
       "      <td>15.156022</td>\n",
       "      <td>1458.726551</td>\n",
       "    </tr>\n",
       "    <tr>\n",
       "      <th>ROE</th>\n",
       "      <td>145.0</td>\n",
       "      <td>0.131003</td>\n",
       "      <td>0.128516</td>\n",
       "      <td>-0.248180</td>\n",
       "      <td>0.071486</td>\n",
       "      <td>0.117346</td>\n",
       "      <td>0.190567</td>\n",
       "      <td>0.533169</td>\n",
       "    </tr>\n",
       "    <tr>\n",
       "      <th>EV/EBIT</th>\n",
       "      <td>145.0</td>\n",
       "      <td>24.872454</td>\n",
       "      <td>186.729919</td>\n",
       "      <td>-1196.383766</td>\n",
       "      <td>14.323139</td>\n",
       "      <td>20.219944</td>\n",
       "      <td>48.286080</td>\n",
       "      <td>462.069324</td>\n",
       "    </tr>\n",
       "    <tr>\n",
       "      <th>Dividend Yield</th>\n",
       "      <td>145.0</td>\n",
       "      <td>0.051514</td>\n",
       "      <td>0.033860</td>\n",
       "      <td>0.000600</td>\n",
       "      <td>0.024700</td>\n",
       "      <td>0.046900</td>\n",
       "      <td>0.069000</td>\n",
       "      <td>0.160300</td>\n",
       "    </tr>\n",
       "    <tr>\n",
       "      <th>Deuda_finan/EBIT</th>\n",
       "      <td>145.0</td>\n",
       "      <td>19.483470</td>\n",
       "      <td>173.833033</td>\n",
       "      <td>-1420.914787</td>\n",
       "      <td>6.501914</td>\n",
       "      <td>13.143799</td>\n",
       "      <td>40.408853</td>\n",
       "      <td>450.806104</td>\n",
       "    </tr>\n",
       "  </tbody>\n",
       "</table>\n",
       "</div>"
      ],
      "text/plain": [
       "                  count       mean         std          min        25%  \\\n",
       "PER               145.0  13.645239  156.166807  -767.642175   5.387300   \n",
       "ROE               145.0   0.131003    0.128516    -0.248180   0.071486   \n",
       "EV/EBIT           145.0  24.872454  186.729919 -1196.383766  14.323139   \n",
       "Dividend Yield    145.0   0.051514    0.033860     0.000600   0.024700   \n",
       "Deuda_finan/EBIT  145.0  19.483470  173.833033 -1420.914787   6.501914   \n",
       "\n",
       "                        50%        75%          max  \n",
       "PER               10.401757  15.156022  1458.726551  \n",
       "ROE                0.117346   0.190567     0.533169  \n",
       "EV/EBIT           20.219944  48.286080   462.069324  \n",
       "Dividend Yield     0.046900   0.069000     0.160300  \n",
       "Deuda_finan/EBIT  13.143799  40.408853   450.806104  "
      ]
     },
     "execution_count": 103,
     "metadata": {},
     "output_type": "execute_result"
    }
   ],
   "source": [
    "ratios_ticker_año_IBEX35.describe(include=float).T"
   ]
  },
  {
   "cell_type": "code",
   "execution_count": 104,
   "id": "c70ce532",
   "metadata": {},
   "outputs": [
    {
     "data": {
      "text/plain": [
       "id                  0\n",
       "ticker              0\n",
       "año                 0\n",
       "PER                 0\n",
       "ROE                 0\n",
       "EV/EBIT             0\n",
       "Dividend Yield      0\n",
       "Deuda_finan/EBIT    0\n",
       "dtype: int64"
      ]
     },
     "execution_count": 104,
     "metadata": {},
     "output_type": "execute_result"
    }
   ],
   "source": [
    "#hacemos un conteo de los valores nulos\n",
    "ratios_ticker_año_IBEX35.isnull().sum()"
   ]
  },
  {
   "cell_type": "code",
   "execution_count": 108,
   "id": "44a230d6",
   "metadata": {},
   "outputs": [
    {
     "data": {
      "text/plain": [
       "([0, 1, 2, 3, 4],\n",
       " [Text(0, 0, 'PER'),\n",
       "  Text(1, 0, 'ROE'),\n",
       "  Text(2, 0, 'EV/EBIT'),\n",
       "  Text(3, 0, 'Dividend Yield'),\n",
       "  Text(4, 0, 'Deuda_finan/EBIT')])"
      ]
     },
     "execution_count": 108,
     "metadata": {},
     "output_type": "execute_result"
    },
    {
     "data": {
      "image/png": "[encoded data removed]",
      "text/plain": [
       "<Figure size 1500x1000 with 1 Axes>"
      ]
     },
     "metadata": {},
     "output_type": "display_data"
    }
   ],
   "source": [
    "#Observamos que no existen valores nulos en la tabla ratios_ticker_año_IBEX35\n",
    "#vamos a hacer un boxplot de los ratios para ver si hay outliers\n",
    "plt.figure(figsize=(15,10))\n",
    "sns.boxplot(data=ratios_ticker_año_IBEX35[['PER', 'ROE','EV/EBIT', 'Dividend Yield','Deuda_finan/EBIT']])\n",
    "plt.title('Boxplot de los ratios')\n",
    "plt.xticks(rotation=90)\n"
   ]
  },
  {
   "cell_type": "markdown",
   "id": "aeaac261",
   "metadata": {},
   "source": [
    "\n",
    "## Tabla ratios ticker_año_ibex35\n",
    "\n",
    "Observamos que existen outliers en los ratios PER, EV/EBIT y deuda financiera/EBIT. Esto se debe a_\n",
    "\n",
    "**PER (Price to Earnings Ratio):**\n",
    "\n",
    "Los valores atípicos en el PER suelen aparecer cuando los beneficios netos son excepcionalmente bajos o negativos. Como el PER divide el precio de la acción entre el beneficio por acción, un beneficio cercano a cero dispara el ratio, y un beneficio negativo lo vuelve inválido o erróneamente interpretado. Esto ocurre frecuentemente en empresas cíclicas en recesión o compañías en fase de inversión o reestructuración.\n",
    "\n",
    "**EV/EBIT (Enterprise Value / Earnings Before Interest and Taxes):**\n",
    "\n",
    "Outliers en el EV/EBIT pueden surgir cuando el EBIT es muy reducido o incluso negativo, lo que infla artificialmente el ratio. También puede pasar cuando el valor de empresa (EV) es muy alto por expectativas de mercado, adquisiciones o apalancamiento. En empresas en pérdidas operativas, este ratio pierde utilidad, y en negocios con fuerte crecimiento especulativo, puede sobredimensionarse.\n",
    "\n",
    "**Deuda financiera / EBIT:**\n",
    "\n",
    "Este ratio refleja la capacidad de una empresa para repagar su deuda con beneficios operativos. Valores extremadamente altos (outliers) se dan cuando el EBIT se hunde, por ejemplo, en años de crisis o pérdidas operativas, mientras la deuda se mantiene. También puede indicar una estructura financiera desequilibrada o modelos de negocio muy apalancados (como infraestructura o utilities).\n",
    "\n",
    "En conclusión, esta tabla tiene los tipos de datos correctos, no existen nulos y todos los outliers tienen su explicación en la naturaleza de los ratios ya que resultados o EBITs negativos o tendentes a 0 pueden desvirtuar los ratios y convertirlos en outliers."
   ]
  },
  {
   "cell_type": "code",
   "execution_count": 110,
   "id": "348d8ae3",
   "metadata": {},
   "outputs": [
    {
     "data": {
      "application/vnd.microsoft.datawrangler.viewer.v0+json": {
       "columns": [
        {
         "name": "index",
         "rawType": "int64",
         "type": "integer"
        },
        {
         "name": "ticker",
         "rawType": "object",
         "type": "string"
        },
        {
         "name": "beta",
         "rawType": "float64",
         "type": "float"
        }
       ],
       "conversionMethod": "pd.DataFrame",
       "ref": "06f8efa3-a8f0-4edc-877d-e7b9309cf0b7",
       "rows": [
        [
         "0",
         "GRF.MC",
         "0.7062"
        ],
        [
         "1",
         "IDR.MC",
         "0.8588"
        ],
        [
         "2",
         "CABK.MC",
         "1.2257"
        ],
        [
         "3",
         "REP.MC",
         "1.0146"
        ],
        [
         "4",
         "TEF.MC",
         "0.837"
        ],
        [
         "5",
         "BKT.MC",
         "1.1781"
        ],
        [
         "6",
         "AMS.MC",
         "1.1865"
        ],
        [
         "7",
         "MAP.MC",
         "0.9444"
        ],
        [
         "8",
         "ITX.MC",
         "1.0116"
        ],
        [
         "9",
         "SAB.MC",
         "1.656"
        ],
        [
         "10",
         "MTS.MC",
         "1.3757"
        ],
        [
         "11",
         "ANA.MC",
         "0.9106"
        ],
        [
         "12",
         "SAN.MC",
         "1.5124"
        ],
        [
         "13",
         "ENG.MC",
         "0.5746"
        ],
        [
         "14",
         "ACX.MC",
         "0.9632"
        ],
        [
         "15",
         "IAG.MC",
         "1.6578"
        ],
        [
         "16",
         "FER.MC",
         "0.9351"
        ],
        [
         "17",
         "IBE.MC",
         "0.7026"
        ],
        [
         "18",
         "ACS.MC",
         "1.1006"
        ],
        [
         "19",
         "BBVA.MC",
         "1.4924"
        ],
        [
         "20",
         "ELE.MC",
         "0.685"
        ],
        [
         "21",
         "SLR.MC",
         "0.8527"
        ],
        [
         "22",
         "AENA.MC",
         "1.0259"
        ],
        [
         "23",
         "CLNX.MC",
         "0.5747"
        ],
        [
         "24",
         "LOG.MC",
         "0.4801"
        ],
        [
         "25",
         "FDR.MC",
         "0.8228"
        ],
        [
         "26",
         "COL.MC",
         "0.9465"
        ],
        [
         "27",
         "ROVI.MC",
         "0.4437"
        ],
        [
         "28",
         "MRL.MC",
         "0.9087"
        ],
        [
         "29",
         "SCYR.MC",
         "1.0363"
        ],
        [
         "30",
         "UNI.MC",
         "1.1036"
        ],
        [
         "31",
         "NTGY.MC",
         "0.7407"
        ],
        [
         "32",
         "ANE.MC",
         "0.7167"
        ],
        [
         "33",
         "RED.MC",
         "0.4302"
        ],
        [
         "34",
         "^IBEX",
         "1.0"
        ],
        [
         "35",
         "PUIG.MC",
         "0.6849"
        ]
       ],
       "shape": {
        "columns": 2,
        "rows": 36
       }
      },
      "text/html": [
       "<div>\n",
       "<style scoped>\n",
       "    .dataframe tbody tr th:only-of-type {\n",
       "        vertical-align: middle;\n",
       "    }\n",
       "\n",
       "    .dataframe tbody tr th {\n",
       "        vertical-align: top;\n",
       "    }\n",
       "\n",
       "    .dataframe thead th {\n",
       "        text-align: right;\n",
       "    }\n",
       "</style>\n",
       "<table border=\"1\" class=\"dataframe\">\n",
       "  <thead>\n",
       "    <tr style=\"text-align: right;\">\n",
       "      <th></th>\n",
       "      <th>ticker</th>\n",
       "      <th>beta</th>\n",
       "    </tr>\n",
       "  </thead>\n",
       "  <tbody>\n",
       "    <tr>\n",
       "      <th>0</th>\n",
       "      <td>GRF.MC</td>\n",
       "      <td>0.7062</td>\n",
       "    </tr>\n",
       "    <tr>\n",
       "      <th>1</th>\n",
       "      <td>IDR.MC</td>\n",
       "      <td>0.8588</td>\n",
       "    </tr>\n",
       "    <tr>\n",
       "      <th>2</th>\n",
       "      <td>CABK.MC</td>\n",
       "      <td>1.2257</td>\n",
       "    </tr>\n",
       "    <tr>\n",
       "      <th>3</th>\n",
       "      <td>REP.MC</td>\n",
       "      <td>1.0146</td>\n",
       "    </tr>\n",
       "    <tr>\n",
       "      <th>4</th>\n",
       "      <td>TEF.MC</td>\n",
       "      <td>0.8370</td>\n",
       "    </tr>\n",
       "    <tr>\n",
       "      <th>5</th>\n",
       "      <td>BKT.MC</td>\n",
       "      <td>1.1781</td>\n",
       "    </tr>\n",
       "    <tr>\n",
       "      <th>6</th>\n",
       "      <td>AMS.MC</td>\n",
       "      <td>1.1865</td>\n",
       "    </tr>\n",
       "    <tr>\n",
       "      <th>7</th>\n",
       "      <td>MAP.MC</td>\n",
       "      <td>0.9444</td>\n",
       "    </tr>\n",
       "    <tr>\n",
       "      <th>8</th>\n",
       "      <td>ITX.MC</td>\n",
       "      <td>1.0116</td>\n",
       "    </tr>\n",
       "    <tr>\n",
       "      <th>9</th>\n",
       "      <td>SAB.MC</td>\n",
       "      <td>1.6560</td>\n",
       "    </tr>\n",
       "    <tr>\n",
       "      <th>10</th>\n",
       "      <td>MTS.MC</td>\n",
       "      <td>1.3757</td>\n",
       "    </tr>\n",
       "    <tr>\n",
       "      <th>11</th>\n",
       "      <td>ANA.MC</td>\n",
       "      <td>0.9106</td>\n",
       "    </tr>\n",
       "    <tr>\n",
       "      <th>12</th>\n",
       "      <td>SAN.MC</td>\n",
       "      <td>1.5124</td>\n",
       "    </tr>\n",
       "    <tr>\n",
       "      <th>13</th>\n",
       "      <td>ENG.MC</td>\n",
       "      <td>0.5746</td>\n",
       "    </tr>\n",
       "    <tr>\n",
       "      <th>14</th>\n",
       "      <td>ACX.MC</td>\n",
       "      <td>0.9632</td>\n",
       "    </tr>\n",
       "    <tr>\n",
       "      <th>15</th>\n",
       "      <td>IAG.MC</td>\n",
       "      <td>1.6578</td>\n",
       "    </tr>\n",
       "    <tr>\n",
       "      <th>16</th>\n",
       "      <td>FER.MC</td>\n",
       "      <td>0.9351</td>\n",
       "    </tr>\n",
       "    <tr>\n",
       "      <th>17</th>\n",
       "      <td>IBE.MC</td>\n",
       "      <td>0.7026</td>\n",
       "    </tr>\n",
       "    <tr>\n",
       "      <th>18</th>\n",
       "      <td>ACS.MC</td>\n",
       "      <td>1.1006</td>\n",
       "    </tr>\n",
       "    <tr>\n",
       "      <th>19</th>\n",
       "      <td>BBVA.MC</td>\n",
       "      <td>1.4924</td>\n",
       "    </tr>\n",
       "    <tr>\n",
       "      <th>20</th>\n",
       "      <td>ELE.MC</td>\n",
       "      <td>0.6850</td>\n",
       "    </tr>\n",
       "    <tr>\n",
       "      <th>21</th>\n",
       "      <td>SLR.MC</td>\n",
       "      <td>0.8527</td>\n",
       "    </tr>\n",
       "    <tr>\n",
       "      <th>22</th>\n",
       "      <td>AENA.MC</td>\n",
       "      <td>1.0259</td>\n",
       "    </tr>\n",
       "    <tr>\n",
       "      <th>23</th>\n",
       "      <td>CLNX.MC</td>\n",
       "      <td>0.5747</td>\n",
       "    </tr>\n",
       "    <tr>\n",
       "      <th>24</th>\n",
       "      <td>LOG.MC</td>\n",
       "      <td>0.4801</td>\n",
       "    </tr>\n",
       "    <tr>\n",
       "      <th>25</th>\n",
       "      <td>FDR.MC</td>\n",
       "      <td>0.8228</td>\n",
       "    </tr>\n",
       "    <tr>\n",
       "      <th>26</th>\n",
       "      <td>COL.MC</td>\n",
       "      <td>0.9465</td>\n",
       "    </tr>\n",
       "    <tr>\n",
       "      <th>27</th>\n",
       "      <td>ROVI.MC</td>\n",
       "      <td>0.4437</td>\n",
       "    </tr>\n",
       "    <tr>\n",
       "      <th>28</th>\n",
       "      <td>MRL.MC</td>\n",
       "      <td>0.9087</td>\n",
       "    </tr>\n",
       "    <tr>\n",
       "      <th>29</th>\n",
       "      <td>SCYR.MC</td>\n",
       "      <td>1.0363</td>\n",
       "    </tr>\n",
       "    <tr>\n",
       "      <th>30</th>\n",
       "      <td>UNI.MC</td>\n",
       "      <td>1.1036</td>\n",
       "    </tr>\n",
       "    <tr>\n",
       "      <th>31</th>\n",
       "      <td>NTGY.MC</td>\n",
       "      <td>0.7407</td>\n",
       "    </tr>\n",
       "    <tr>\n",
       "      <th>32</th>\n",
       "      <td>ANE.MC</td>\n",
       "      <td>0.7167</td>\n",
       "    </tr>\n",
       "    <tr>\n",
       "      <th>33</th>\n",
       "      <td>RED.MC</td>\n",
       "      <td>0.4302</td>\n",
       "    </tr>\n",
       "    <tr>\n",
       "      <th>34</th>\n",
       "      <td>^IBEX</td>\n",
       "      <td>1.0000</td>\n",
       "    </tr>\n",
       "    <tr>\n",
       "      <th>35</th>\n",
       "      <td>PUIG.MC</td>\n",
       "      <td>0.6849</td>\n",
       "    </tr>\n",
       "  </tbody>\n",
       "</table>\n",
       "</div>"
      ],
      "text/plain": [
       "     ticker    beta\n",
       "0    GRF.MC  0.7062\n",
       "1    IDR.MC  0.8588\n",
       "2   CABK.MC  1.2257\n",
       "3    REP.MC  1.0146\n",
       "4    TEF.MC  0.8370\n",
       "5    BKT.MC  1.1781\n",
       "6    AMS.MC  1.1865\n",
       "7    MAP.MC  0.9444\n",
       "8    ITX.MC  1.0116\n",
       "9    SAB.MC  1.6560\n",
       "10   MTS.MC  1.3757\n",
       "11   ANA.MC  0.9106\n",
       "12   SAN.MC  1.5124\n",
       "13   ENG.MC  0.5746\n",
       "14   ACX.MC  0.9632\n",
       "15   IAG.MC  1.6578\n",
       "16   FER.MC  0.9351\n",
       "17   IBE.MC  0.7026\n",
       "18   ACS.MC  1.1006\n",
       "19  BBVA.MC  1.4924\n",
       "20   ELE.MC  0.6850\n",
       "21   SLR.MC  0.8527\n",
       "22  AENA.MC  1.0259\n",
       "23  CLNX.MC  0.5747\n",
       "24   LOG.MC  0.4801\n",
       "25   FDR.MC  0.8228\n",
       "26   COL.MC  0.9465\n",
       "27  ROVI.MC  0.4437\n",
       "28   MRL.MC  0.9087\n",
       "29  SCYR.MC  1.0363\n",
       "30   UNI.MC  1.1036\n",
       "31  NTGY.MC  0.7407\n",
       "32   ANE.MC  0.7167\n",
       "33   RED.MC  0.4302\n",
       "34    ^IBEX  1.0000\n",
       "35  PUIG.MC  0.6849"
      ]
     },
     "execution_count": 110,
     "metadata": {},
     "output_type": "execute_result"
    }
   ],
   "source": [
    "#cargamos los datos de la tabla ratios_beta_IBEX35\n",
    "#conectamos a la base de datos\n",
    "conn = ps.connect(\n",
    "    dbname= 'IBEX35_Análisis',\n",
    "    user= 'postgres',\n",
    "    password= 'admin',\n",
    "    host= 'localhost',\n",
    "    port= '5432'\n",
    ")\n",
    "#creamos un cursor para ejecutar comandos SQL\n",
    "cur = conn.cursor()\n",
    "#Traemos los datos de la tabla ratios_beta_IBEX35\n",
    "cur.execute('SELECT * FROM \"ratios_beta_IBEX35\"')\n",
    "#guardamos los resultados en una variable\n",
    "ratios_beta_IBEX35 = cur.fetchall()\n",
    "#creamos un dataframe con los resultadoS\n",
    "ratios_beta_IBEX35 = pd.DataFrame(ratios_beta_IBEX35, columns=['ticker', 'beta'])\n",
    "#cerramos el cursor y la conexión\n",
    "cur.close()\n",
    "conn.close()\n",
    "#mostramos el dataframe\n",
    "ratios_beta_IBEX35"
   ]
  },
  {
   "cell_type": "code",
   "execution_count": 111,
   "id": "da3dca80",
   "metadata": {},
   "outputs": [],
   "source": [
    "#Convertimos la columna beta en la primary key de la tabla ratios_beta_IBEX35\n",
    "#conectamos a la base de datos\n",
    "conn = ps.connect(\n",
    "    dbname= 'IBEX35_Análisis',\n",
    "    user= 'postgres',\n",
    "    password= 'admin',\n",
    "    host= 'localhost',\n",
    "    port= '5432'\n",
    ")\n",
    "#creamos un cursor para ejecutar comandos SQL\n",
    "cur = conn.cursor()\n",
    "#convertimos la columna beta en la primary key de la tabla ratios_beta_IBEX35\n",
    "cur.execute('ALTER TABLE \"ratios_beta_IBEX35\" DROP CONSTRAINT IF EXISTS \"ratios_beta_IBEX35_pkey\"')\n",
    "conn.commit()\n",
    "cur.close()\n",
    "conn.close()"
   ]
  },
  {
   "cell_type": "code",
   "execution_count": 112,
   "id": "58ac29b8",
   "metadata": {},
   "outputs": [
    {
     "name": "stdout",
     "output_type": "stream",
     "text": [
      "<class 'pandas.core.frame.DataFrame'>\n",
      "RangeIndex: 36 entries, 0 to 35\n",
      "Data columns (total 2 columns):\n",
      " #   Column  Non-Null Count  Dtype  \n",
      "---  ------  --------------  -----  \n",
      " 0   ticker  36 non-null     object \n",
      " 1   beta    36 non-null     float64\n",
      "dtypes: float64(1), object(1)\n",
      "memory usage: 708.0+ bytes\n"
     ]
    }
   ],
   "source": [
    "ratios_beta_IBEX35.info()"
   ]
  },
  {
   "cell_type": "code",
   "execution_count": 114,
   "id": "cc82544e",
   "metadata": {},
   "outputs": [
    {
     "data": {
      "application/vnd.microsoft.datawrangler.viewer.v0+json": {
       "columns": [
        {
         "name": "index",
         "rawType": "int64",
         "type": "integer"
        },
        {
         "name": "ticker",
         "rawType": "object",
         "type": "string"
        },
        {
         "name": "beta",
         "rawType": "float64",
         "type": "float"
        }
       ],
       "conversionMethod": "pd.DataFrame",
       "ref": "5b8dec31-6608-4555-9d7d-65ec8dcfb9b5",
       "rows": [
        [
         "34",
         "^IBEX",
         "1.0"
        ]
       ],
       "shape": {
        "columns": 2,
        "rows": 1
       }
      },
      "text/html": [
       "<div>\n",
       "<style scoped>\n",
       "    .dataframe tbody tr th:only-of-type {\n",
       "        vertical-align: middle;\n",
       "    }\n",
       "\n",
       "    .dataframe tbody tr th {\n",
       "        vertical-align: top;\n",
       "    }\n",
       "\n",
       "    .dataframe thead th {\n",
       "        text-align: right;\n",
       "    }\n",
       "</style>\n",
       "<table border=\"1\" class=\"dataframe\">\n",
       "  <thead>\n",
       "    <tr style=\"text-align: right;\">\n",
       "      <th></th>\n",
       "      <th>ticker</th>\n",
       "      <th>beta</th>\n",
       "    </tr>\n",
       "  </thead>\n",
       "  <tbody>\n",
       "    <tr>\n",
       "      <th>34</th>\n",
       "      <td>^IBEX</td>\n",
       "      <td>1.0</td>\n",
       "    </tr>\n",
       "  </tbody>\n",
       "</table>\n",
       "</div>"
      ],
      "text/plain": [
       "   ticker  beta\n",
       "34  ^IBEX   1.0"
      ]
     },
     "execution_count": 114,
     "metadata": {},
     "output_type": "execute_result"
    }
   ],
   "source": [
    "ratios_beta_IBEX35[ratios_beta_IBEX35['ticker'] == '^IBEX']"
   ]
  },
  {
   "cell_type": "code",
   "execution_count": 115,
   "id": "0809c306",
   "metadata": {},
   "outputs": [
    {
     "data": {
      "application/vnd.microsoft.datawrangler.viewer.v0+json": {
       "columns": [
        {
         "name": "index",
         "rawType": "object",
         "type": "string"
        },
        {
         "name": "count",
         "rawType": "object",
         "type": "unknown"
        },
        {
         "name": "unique",
         "rawType": "object",
         "type": "unknown"
        },
        {
         "name": "top",
         "rawType": "object",
         "type": "unknown"
        },
        {
         "name": "freq",
         "rawType": "object",
         "type": "unknown"
        },
        {
         "name": "mean",
         "rawType": "object",
         "type": "unknown"
        },
        {
         "name": "std",
         "rawType": "object",
         "type": "unknown"
        },
        {
         "name": "min",
         "rawType": "object",
         "type": "unknown"
        },
        {
         "name": "25%",
         "rawType": "object",
         "type": "unknown"
        },
        {
         "name": "50%",
         "rawType": "object",
         "type": "unknown"
        },
        {
         "name": "75%",
         "rawType": "object",
         "type": "unknown"
        },
        {
         "name": "max",
         "rawType": "object",
         "type": "unknown"
        }
       ],
       "conversionMethod": "pd.DataFrame",
       "ref": "73149754-b665-4950-acb4-a4acfbf5af24",
       "rows": [
        [
         "ticker",
         "36",
         "36",
         "GRF.MC",
         "1",
         null,
         null,
         null,
         null,
         null,
         null,
         null
        ],
        [
         "beta",
         "36.0",
         null,
         null,
         null,
         "0.9526777777777777",
         "0.3154914833454178",
         "0.4302",
         "0.714075",
         "0.9397500000000001",
         "1.10135",
         "1.6578"
        ]
       ],
       "shape": {
        "columns": 11,
        "rows": 2
       }
      },
      "text/html": [
       "<div>\n",
       "<style scoped>\n",
       "    .dataframe tbody tr th:only-of-type {\n",
       "        vertical-align: middle;\n",
       "    }\n",
       "\n",
       "    .dataframe tbody tr th {\n",
       "        vertical-align: top;\n",
       "    }\n",
       "\n",
       "    .dataframe thead th {\n",
       "        text-align: right;\n",
       "    }\n",
       "</style>\n",
       "<table border=\"1\" class=\"dataframe\">\n",
       "  <thead>\n",
       "    <tr style=\"text-align: right;\">\n",
       "      <th></th>\n",
       "      <th>count</th>\n",
       "      <th>unique</th>\n",
       "      <th>top</th>\n",
       "      <th>freq</th>\n",
       "      <th>mean</th>\n",
       "      <th>std</th>\n",
       "      <th>min</th>\n",
       "      <th>25%</th>\n",
       "      <th>50%</th>\n",
       "      <th>75%</th>\n",
       "      <th>max</th>\n",
       "    </tr>\n",
       "  </thead>\n",
       "  <tbody>\n",
       "    <tr>\n",
       "      <th>ticker</th>\n",
       "      <td>36</td>\n",
       "      <td>36</td>\n",
       "      <td>GRF.MC</td>\n",
       "      <td>1</td>\n",
       "      <td>NaN</td>\n",
       "      <td>NaN</td>\n",
       "      <td>NaN</td>\n",
       "      <td>NaN</td>\n",
       "      <td>NaN</td>\n",
       "      <td>NaN</td>\n",
       "      <td>NaN</td>\n",
       "    </tr>\n",
       "    <tr>\n",
       "      <th>beta</th>\n",
       "      <td>36.0</td>\n",
       "      <td>NaN</td>\n",
       "      <td>NaN</td>\n",
       "      <td>NaN</td>\n",
       "      <td>0.952678</td>\n",
       "      <td>0.315491</td>\n",
       "      <td>0.4302</td>\n",
       "      <td>0.714075</td>\n",
       "      <td>0.93975</td>\n",
       "      <td>1.10135</td>\n",
       "      <td>1.6578</td>\n",
       "    </tr>\n",
       "  </tbody>\n",
       "</table>\n",
       "</div>"
      ],
      "text/plain": [
       "       count unique     top freq      mean       std     min       25%  \\\n",
       "ticker    36     36  GRF.MC    1       NaN       NaN     NaN       NaN   \n",
       "beta    36.0    NaN     NaN  NaN  0.952678  0.315491  0.4302  0.714075   \n",
       "\n",
       "            50%      75%     max  \n",
       "ticker      NaN      NaN     NaN  \n",
       "beta    0.93975  1.10135  1.6578  "
      ]
     },
     "execution_count": 115,
     "metadata": {},
     "output_type": "execute_result"
    }
   ],
   "source": [
    "ratios_beta_IBEX35.describe(include='all').T"
   ]
  },
  {
   "cell_type": "code",
   "execution_count": 117,
   "id": "1a7a58da",
   "metadata": {},
   "outputs": [
    {
     "data": {
      "text/plain": [
       "([0], [Text(0, 0, 'beta')])"
      ]
     },
     "execution_count": 117,
     "metadata": {},
     "output_type": "execute_result"
    },
    {
     "data": {
      "image/png": "[encoded data removed]",
      "text/plain": [
       "<Figure size 1000x500 with 1 Axes>"
      ]
     },
     "metadata": {},
     "output_type": "display_data"
    }
   ],
   "source": [
    "plt.figure(figsize=(10,5))\n",
    "sns.boxplot(data=ratios_beta_IBEX35[['beta']])\n",
    "plt.title('Boxplot de la beta')\n",
    "plt.xticks(rotation=90)"
   ]
  },
  {
   "cell_type": "markdown",
   "id": "966219c8",
   "metadata": {},
   "source": [
    "## Tabla Ratios_beta_IBEX 35\n",
    "** **\n",
    "En primer lugar, convertimos los tickers en primary key ya que son valores únicos para esta tabla y observamos que hay 36, las 35 empresas más la propia beta del índice. \n",
    "\n",
    "Se hace una comprobación estadística para ver que la beta del IBEX es igual a 1 y no se observan outliers ya que todos los valores, como máximo están entre 0 y 2 con respecto al índice lo cual tiene sentido estadístico. "
   ]
  },
  {
   "cell_type": "code",
   "execution_count": null,
   "id": "6f18e5b6",
   "metadata": {},
   "outputs": [],
   "source": []
  }
 ],
 "metadata": {
  "kernelspec": {
   "display_name": "Python 3",
   "language": "python",
   "name": "python3"
  },
  "language_info": {
   "codemirror_mode": {
    "name": "ipython",
    "version": 3
   },
   "file_extension": ".py",
   "mimetype": "text/x-python",
   "name": "python",
   "nbconvert_exporter": "python",
   "pygments_lexer": "ipython3",
   "version": "3.12.5"
  }
 },
 "nbformat": 4,
 "nbformat_minor": 5
}
